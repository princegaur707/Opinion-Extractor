{
 "cells": [
  {
   "cell_type": "code",
   "execution_count": 3,
   "metadata": {},
   "outputs": [
    {
     "data": {
      "text/html": [
       "<div>\n",
       "<style scoped>\n",
       "    .dataframe tbody tr th:only-of-type {\n",
       "        vertical-align: middle;\n",
       "    }\n",
       "\n",
       "    .dataframe tbody tr th {\n",
       "        vertical-align: top;\n",
       "    }\n",
       "\n",
       "    .dataframe thead th {\n",
       "        text-align: right;\n",
       "    }\n",
       "</style>\n",
       "<table border=\"1\" class=\"dataframe\">\n",
       "  <thead>\n",
       "    <tr style=\"text-align: right;\">\n",
       "      <th></th>\n",
       "      <th>i</th>\n",
       "      <th>tweet</th>\n",
       "      <th>countnoun</th>\n",
       "      <th>countverb</th>\n",
       "      <th>countadj</th>\n",
       "      <th>countadp</th>\n",
       "      <th>countadv</th>\n",
       "      <th>countnum</th>\n",
       "      <th>countaux</th>\n",
       "      <th>countconj</th>\n",
       "      <th>countdet</th>\n",
       "      <th>countintj</th>\n",
       "      <th>countpart</th>\n",
       "      <th>countpron</th>\n",
       "      <th>countpropn</th>\n",
       "      <th>countpunct</th>\n",
       "      <th>countsconj</th>\n",
       "      <th>countx</th>\n",
       "      <th>sentiment_score</th>\n",
       "      <th>target</th>\n",
       "    </tr>\n",
       "  </thead>\n",
       "  <tbody>\n",
       "    <tr>\n",
       "      <th>0</th>\n",
       "      <td>2</td>\n",
       "      <td>sandeepfromvns sengarajay swamigeetika tajin...</td>\n",
       "      <td>10</td>\n",
       "      <td>3</td>\n",
       "      <td>2</td>\n",
       "      <td>1</td>\n",
       "      <td>0</td>\n",
       "      <td>0</td>\n",
       "      <td>0</td>\n",
       "      <td>0</td>\n",
       "      <td>1</td>\n",
       "      <td>0</td>\n",
       "      <td>0</td>\n",
       "      <td>0</td>\n",
       "      <td>0</td>\n",
       "      <td>0</td>\n",
       "      <td>0</td>\n",
       "      <td>0</td>\n",
       "      <td>0.0</td>\n",
       "      <td>3</td>\n",
       "    </tr>\n",
       "    <tr>\n",
       "      <th>1</th>\n",
       "      <td>3</td>\n",
       "      <td>narendramodi apnamodiaayega</td>\n",
       "      <td>2</td>\n",
       "      <td>0</td>\n",
       "      <td>0</td>\n",
       "      <td>0</td>\n",
       "      <td>0</td>\n",
       "      <td>0</td>\n",
       "      <td>0</td>\n",
       "      <td>0</td>\n",
       "      <td>0</td>\n",
       "      <td>0</td>\n",
       "      <td>0</td>\n",
       "      <td>0</td>\n",
       "      <td>0</td>\n",
       "      <td>0</td>\n",
       "      <td>0</td>\n",
       "      <td>0</td>\n",
       "      <td>0.0</td>\n",
       "      <td>3</td>\n",
       "    </tr>\n",
       "    <tr>\n",
       "      <th>2</th>\n",
       "      <td>4</td>\n",
       "      <td>rss hates gandhi nehru allowing india hindu ra...</td>\n",
       "      <td>13</td>\n",
       "      <td>6</td>\n",
       "      <td>3</td>\n",
       "      <td>2</td>\n",
       "      <td>0</td>\n",
       "      <td>0</td>\n",
       "      <td>0</td>\n",
       "      <td>0</td>\n",
       "      <td>0</td>\n",
       "      <td>0</td>\n",
       "      <td>0</td>\n",
       "      <td>0</td>\n",
       "      <td>0</td>\n",
       "      <td>0</td>\n",
       "      <td>0</td>\n",
       "      <td>0</td>\n",
       "      <td>0.0</td>\n",
       "      <td>1</td>\n",
       "    </tr>\n",
       "    <tr>\n",
       "      <th>3</th>\n",
       "      <td>5</td>\n",
       "      <td>apnamodiaayega _ _ _ narendramodi amitshah s...</td>\n",
       "      <td>5</td>\n",
       "      <td>0</td>\n",
       "      <td>1</td>\n",
       "      <td>0</td>\n",
       "      <td>0</td>\n",
       "      <td>0</td>\n",
       "      <td>0</td>\n",
       "      <td>0</td>\n",
       "      <td>2</td>\n",
       "      <td>0</td>\n",
       "      <td>0</td>\n",
       "      <td>0</td>\n",
       "      <td>0</td>\n",
       "      <td>0</td>\n",
       "      <td>0</td>\n",
       "      <td>0</td>\n",
       "      <td>0.0</td>\n",
       "      <td>3</td>\n",
       "    </tr>\n",
       "    <tr>\n",
       "      <th>4</th>\n",
       "      <td>6</td>\n",
       "      <td>chaitnyakumar wildedolf bhavsarhardiik sanka...</td>\n",
       "      <td>11</td>\n",
       "      <td>5</td>\n",
       "      <td>2</td>\n",
       "      <td>0</td>\n",
       "      <td>0</td>\n",
       "      <td>0</td>\n",
       "      <td>0</td>\n",
       "      <td>0</td>\n",
       "      <td>0</td>\n",
       "      <td>0</td>\n",
       "      <td>0</td>\n",
       "      <td>0</td>\n",
       "      <td>1</td>\n",
       "      <td>0</td>\n",
       "      <td>0</td>\n",
       "      <td>1</td>\n",
       "      <td>0.0</td>\n",
       "      <td>3</td>\n",
       "    </tr>\n",
       "  </tbody>\n",
       "</table>\n",
       "</div>"
      ],
      "text/plain": [
       "   i                                              tweet  countnoun  countverb  \\\n",
       "0  2    sandeepfromvns sengarajay swamigeetika tajin...         10          3   \n",
       "1  3                        narendramodi apnamodiaayega          2          0   \n",
       "2  4  rss hates gandhi nehru allowing india hindu ra...         13          6   \n",
       "3  5    apnamodiaayega _ _ _ narendramodi amitshah s...          5          0   \n",
       "4  6    chaitnyakumar wildedolf bhavsarhardiik sanka...         11          5   \n",
       "\n",
       "   countadj  countadp  countadv  countnum  countaux  countconj  countdet  \\\n",
       "0         2         1         0         0         0          0         1   \n",
       "1         0         0         0         0         0          0         0   \n",
       "2         3         2         0         0         0          0         0   \n",
       "3         1         0         0         0         0          0         2   \n",
       "4         2         0         0         0         0          0         0   \n",
       "\n",
       "   countintj  countpart  countpron  countpropn  countpunct  countsconj  \\\n",
       "0          0          0          0           0           0           0   \n",
       "1          0          0          0           0           0           0   \n",
       "2          0          0          0           0           0           0   \n",
       "3          0          0          0           0           0           0   \n",
       "4          0          0          0           1           0           0   \n",
       "\n",
       "   countx  sentiment_score target  \n",
       "0       0              0.0      3  \n",
       "1       0              0.0      3  \n",
       "2       0              0.0      1  \n",
       "3       0              0.0      3  \n",
       "4       1              0.0      3  "
      ]
     },
     "execution_count": 3,
     "metadata": {},
     "output_type": "execute_result"
    }
   ],
   "source": [
    "import pandas as pd\n",
    "import numpy as np\n",
    "\n",
    "# Read in the data\n",
    "#df = pd.read_csv('test_classifier_Input_for_classifier_stable.csv')\n",
    "df = pd.read_csv('cleaned_b6.csv')\n",
    "df.columns=['i','tweet','countnoun','countverb','countadj','countadp','countadv','countnum','countaux','countconj','countdet','countintj','countpart','countpron','countpropn','countpunct','countsconj','countx','sentiment_score','target']  \n",
    "df.dropna(inplace=True)\n",
    "\n",
    "# Sample the data to speed up computation\n",
    "# Comment out this line to match with lecture\n",
    "#df = df.sample(frac=0.1, random_state=10)\n",
    "\n",
    "df.head()\n"
   ]
  },
  {
   "cell_type": "code",
   "execution_count": 4,
   "metadata": {},
   "outputs": [],
   "source": [
    "from sklearn.model_selection import train_test_split\n",
    "\n",
    "# Split data into training and test sets\n",
    "'''X_train, X_test, y_train, y_test = train_test_split(x_df, \n",
    "                                                    y_df, \n",
    "                                                    random_state=0)'''\n",
    "X_train, X_test, y_train, y_test = train_test_split(df['tweet'], \n",
    "                                                    df['target'], \n",
    "                                                    random_state=0)"
   ]
  },
  {
   "cell_type": "code",
   "execution_count": 4,
   "metadata": {},
   "outputs": [
    {
     "name": "stdout",
     "output_type": "stream",
     "text": [
      "X_train first entry:\n",
      "\n",
      " pathological liar modi pathological liar shah read respond xxxx\n",
      "\n",
      "\n",
      "X_train shape:  (1117,)\n"
     ]
    }
   ],
   "source": [
    "print('X_train first entry:\\n\\n', X_train.iloc[0])\n",
    "print('\\n\\nX_train shape: ', X_train.shape)"
   ]
  },
  {
   "cell_type": "code",
   "execution_count": 5,
   "metadata": {},
   "outputs": [],
   "source": [
    "from sklearn.feature_extraction.text import CountVectorizer\n",
    "\n",
    "# Fit the CountVectorizer to the training data\n",
    "vect = CountVectorizer().fit(X_train)"
   ]
  },
  {
   "cell_type": "code",
   "execution_count": 6,
   "metadata": {},
   "outputs": [
    {
     "name": "stdout",
     "output_type": "stream",
     "text": [
      "['aa', 'aab', 'aadar', 'aadhar', 'aaj', 'aajtak', 'aamaadmiparty', 'aane', 'aap', 'aapka', 'aapke', 'aapki', 'aapko', 'aapsur', 'aar', 'aaryavrat', 'aaya', 'aaye', 'aayega', 'aayegatohmodihi', 'aayegatomodihi', 'aayegi', 'ab', 'ab_bjp', 'abb', 'abbakkahypatia', 'abbiamo', 'abdullah_mar', 'abey', 'abhi', 'abhijatmishr', 'abhisar_sharma', 'abhoganyay', 'ability', 'abject', 'abki', 'abkibaarkiskisarkar', 'abkibaarmodisarkar', 'abkibaarpaar', 'able', 'ably', 'aboard', 'abp', 'abpanandatv', 'abpnewstv', 'abroad', 'abrogation', 'absent', 'absolutehike', 'absolutely', 'abt', 'abuja', 'abuse', 'abused', 'abuses', 'abusing', 'abusos', 'ac', 'acabar', 'accept', 'acceptance', 'accha', 'acche', 'acchi', 'accidental', 'accidentally', 'acciones', 'accommodate', 'accompany', 'according', 'account', 'accountability', 'accounts', 'accused', 'accuses', 'accusing', 'ache', 'achha', 'achhi', 'achieve', 'achievement', 'act', 'acting', 'action', 'actively', 'activist', 'activities', 'activity', 'actor', 'acts', 'actually', 'actuar', 'ad', 'adalah', 'adama', 'adamant', 'adapt', 'adarsh', 'add', 'added', 'address', 'addresses', 'addressing', 'adds', 'adeccogroupita', 'adecuadas', 'adequats', 'adesso', 'aditi', 'aditisinghinc', 'aditya', 'adityamenon', 'adjusting', 'administrator', 'admiral', 'admiration', 'admitted', 'adolescente', 'adopted', 'adopten', 'adoption', 'adriaanbasson', 'ads', 'adulation', 'adultery', 'advani', 'advantage', 'advertising', 'advised', 'advmonikaarora', 'affection', 'aficin', 'afraid', 'agar', 'age', 'ageless', 'agenda', 'agent', 'agents', 'aggrandisment', 'agnt', 'ago', 'agree', 'agreed', 'agrwalr', 'ah', 'ahead', 'ahmed', 'ahmed_momla', 'ahmedabad', 'ahmedpatel', 'ai', 'ailesi', 'aims', 'air', 'aircraft', 'aircrash', 'airforce', 'airport', 'airtel', 'airtel_presence', 'aise', 'aitheyaasong', 'aivojakin', 'aiyar', 'aiyer', 'aiyshwaryam', 'ajay', 'ajaydevgn', 'ajaykushwaha', 'ajaypandey', 'ak', 'aka', 'akal', 'akali_dal', 'akhilesh', 'akhileshpsingh', 'akomodir', 'akshathabhattp', 'akshay', 'akshaykumar', 'al', 'alal', 'alan', 'alasan', 'albert', 'alerta', 'algo', 'alimentos', 'alive', 'alla', 'allah', 'alle', 'allegation', 'allegations', 'alleged', 'alleges', 'aller', 'allies', 'alligation', 'allow', 'allowed', 'allows', 'almighty', 'alternativa', 'altnews', 'altri', 'alwar', 'amansi', 'amarinder', 'amarujalanews', 'amazon', 'ambani', 'ambedkars', 'amended', 'amendment', 'american', 'amethi', 'amin', 'amit', 'amitabh', 'amitbehere', 'amitmalviya', 'amitshah', 'amitshahoffice', 'amo', 'amodio', 'amounts', 'amp', 'amravati', 'amrica', 'amritabhinder', 'amritsar', 'anant', 'anantkumar', 'anantkumarh', 'ancestral', 'anche', 'andrew', 'andromeda', 'ane', 'anger', 'angered', 'angry', 'ani', 'anil_baluni', 'anilindian', 'anilj_modi', 'animali', 'anindyatimes', 'anirbanganguly', 'anita', 'anjali_damania', 'anjanaomkashyap', 'anjupurohit', 'anjuydv', 'ankahi', 'ann', 'annadale', 'annenin', 'annesi', 'anni', 'annieloof', 'anniversary', 'announced', 'annualised', 'annually', 'annuler', 'anshumalini', 'answered', 'antara', 'anti', 'antinationals', 'anubhavshukla', 'anujg', 'anupamkpandey', 'anupampkher', 'anupriyaspatel', 'anuraag_saxena', 'anuragtamrakar', 'anymore', 'apart', 'apenas', 'aperta', 'apka', 'apku', 'apna', 'apnamodiaayeg', 'apnamodiaayega', 'apne', 'apologies', 'apologize', 'apology', 'apostle', 'app', 'apparently', 'appeal', 'appealed', 'appeared', 'applauding', 'appointed', 'approached', 'approaches', 'approda', 'appropria', 'appropriate', 'approve', 'approves', 'aprirsi', 'aprovada', 'apt', 'aquest', 'aragorn', 'arambagh', 'archive', 'area', 'aren', 'arested', 'ariticulate', 'arj', 'armed', 'arms', 'arnab', 'arnabgoswamirtv', 'aroonpurie', 'arre', 'arrest', 'arrested', 'arrh', 'arriva', 'arrt', 'arshi', 'article', 'articlea', 'artificialmente', 'artisans', 'arun', 'arunbajpairajan', 'arunjaitley', 'arvind', 'arvindkejriwal', 'arvindm', 'aryan_rns', 'asha__gupta', 'ashikismyname', 'ashiquotes', 'ashirwaad', 'ashishdua_inc', 'ashokepandit', 'ashutos', 'ashutoshvshukla', 'ashuvaani', 'ask', 'asked', 'asking', 'asks', 'asli', 'asman', 'aspettare', 'aspirational', 'assanges', 'assassin', 'assassinated', 'asses', 'assets', 'assumed', 'atend', 'athawale', 'atheepratiquant', 'atheist_krishna', 'atishiforeastdelhi', 'atmosphere', 'att', 'attack', 'attacked', 'attacking', 'attempt', 'attend', 'attended', 'attention', 'attitude', 'atuendo', 'atul', 'aturar', 'atvideo', 'au', 'audacity', 'audited', 'auditinvestigasikpu', 'aun', 'aunty', 'aur', 'aura', 'authoratul', 'authorrajiv', 'automotive', 'aux', 'available', 'avanindra', 'avatar', 'avbelow', 'avec', 'avengers', 'average', 'avere', 'avez', 'avg', 'avidya', 'avinav_gahlot', 'avoids', 'avoir', 'awake', 'award', 'awareness', 'awas', 'away', 'axes', 'aybps', 'ayega', 'ayegatohmodihi', 'ayegatomodihi', 'ayogyaarrivestomorrow', 'ayuntamientos', 'ayyaamin', 'azamgarh', 'azhar', 'ba', 'baaki', 'baap', 'baar', 'baare', 'baat', 'baba', 'babar_le_rhino', 'babari', 'babble', 'babri', 'babu_owino', 'babua', 'bach', 'bachaan', 'bachchan', 'backed', 'backfired', 'backs', 'bad', 'badarwah', 'badda', 'badepapapart', 'badhi', 'badly', 'badrinath', 'bags', 'bahut', 'bailout', 'bainhuma', 'bainjal', 'baisaraj', 'bait', 'bajwa', 'bakrid', 'balakot', 'balances', 'balanm', 'ballot', 'balls', 'balrampur', 'ban', 'bana', 'banao', 'banayi', 'bandh', 'bandido', 'banega', 'banerjee', 'bangaram', 'bangla', 'bank', 'banker', 'bankruptcy', 'banks', 'bankura', 'banned', 'banners', 'bano', 'bar', 'barackobama', 'barad', 'baramati', 'baramatiloksabha', 'barasat', 'barbad', 'bariely', 'barking', 'baroo', 'barrios', 'bartamannews', 'baru', 'baseless', 'basically', 'batata', 'bataya', 'bathinda', 'bathong', 'battleof', 'bay', 'bbai', 'bbc', 'bbcworld', 'bcam', 'bcoz', 'bda_dietitians', 'bdutt', 'beacuse', 'bearer', 'beat', 'beats', 'beaufrre', 'beautifully', 'beautyfromitaly', 'bebein', 'bebest', 'bedtime', 'befo', 'begged', 'begin', 'begins', 'behalf', 'behar', 'behaviour', 'behver', 'belief', 'believe', 'believes', 'belonging', 'beloved', 'bench', 'beneficiaries', 'beneficio', 'benefit', 'benefited', 'bengal', 'bengalburning', 'bengali', 'bengalwithbjp', 'benguluru', 'bentivoglio', 'bereketli', 'best', 'bet', 'betrayal', 'better', 'betterment', 'betterpakistan', 'bf', 'bhag', 'bhagaya', 'bhagwa', 'bhagwa_sherni', 'bhagwan', 'bhakt', 'bhakti', 'bhakto', 'bhakts', 'bhanu', 'bharat', 'bharatbolemodifirse', 'bharatbolenamonamo', 'bharath', 'bharatkagarvmodi', 'bharatmangemodidobara', 'bharega', 'bhartiysannari', 'bhasmasur', 'bhati', 'bhatia', 'bhavsarhardiik', 'bhejo', 'bhi', 'bhool', 'bhopal', 'bhrashtachari', 'bhu', 'bhubaneswar', 'bhuvikal', 'bias', 'bifobia', 'big', 'bigbraking', 'bigger', 'biggest', 'bigoted', 'bihar', 'biharwithmodi', 'bihi', 'bik', 'bikebot', 'bikram', 'bilkul', 'bill', 'billed', 'billion', 'billions', 'bills', 'bio', 'birla', 'bit', 'bitfinex', 'biting', 'bitumen', 'bizim', 'bjp', 'bjpambala', 'bjpbengal', 'bjpchandigarh', 'bjpdelhi', 'bjpgujarat', 'bjphimachal', 'bjpindia', 'bjpjharkhand', 'bjpkarnataka', 'bjpmaharashtra', 'bjpmission', 'bjpmp', 'bjpmumbai', 'bjppunjab', 'bjpramswroop', 'bjps', 'bjpsamvaddelhi', 'bjpsedemocracybachao', 'bjpshivpshukla', 'bjpsoldindia', 'bjpsupportsterrorists', 'bjpup', 'bjpvijaydiwas', 'bjpwbengal', 'black', 'blame', 'blames', 'blanko', 'blast', 'blasts', 'blatant', 'blatantly', 'bless', 'blessed', 'blessing', 'blessings', 'blind', 'blockbustermaharshi', 'blocks', 'blood', 'bloody', 'bloomberg', 'blot', 'blown', 'blue', 'bluee_bld', 'bluff', 'blunder', 'bmeteo', 'bmz', 'bo', 'board', 'body', 'bofors', 'bohater', 'bola', 'boldest', 'boldly', 'boleche', 'bolivianos', 'bolne', 'bomb', 'bombing', 'boosted', 'booth', 'bopealouis', 'born', 'borrow', 'boss', 'botal', 'bothered', 'boti', 'bottomline', 'bought', 'box', 'boxer', 'boy', 'boycott', 'boycottamazon', 'brace', 'brain', 'brajeshyadavsp', 'brand', 'brashtachaari', 'bratprincess', 'bravepedestrian', 'brazen', 'brazenly', 'bread', 'break', 'breaking', 'breakoutdecade', 'brexit', 'bribing', 'bricks', 'bridged', 'brijeshkalappa', 'bring', 'bringing', 'britain', 'british', 'briyani', 'bro', 'brother', 'brought', 'brutal', 'bsf_india', 'bsp', 'btvi', 'btw', 'btwn', 'bua', 'buenas', 'builder', 'builders', 'building', 'built', 'bull', 'bulles', 'bullet', 'buongiorno', 'burai', 'bureaucrat', 'burger', 'burnol', 'business', 'busted', 'busy', 'butter', 'button', 'buy', 'byadavbjp', 'bye', 'cabinet', 'cag', 'cal', 'calculations', 'called', 'calling', 'calls', 'calmer', 'calorie', 'cambia', 'came', 'camera', 'cammodisane', 'campaign', 'campaigned', 'campaigning', 'campaigns', 'canadian', 'canard', 'cancer', 'candidate', 'candidates', 'candidature', 'canmz', 'capabilities', 'capire', 'capitalisation', 'capitalists', 'capito', 'captain', 'car', 'cara', 'caracas', 'caratterizzer', 'cards', 'care', 'cared', 'cariappa', 'carisimas', 'carrier', 'carry', 'cars', 'cartoon', 'case', 'caste', 'castle', 'casts', 'catalogues', 'catalyst', 'catch', 'cause', 'caused', 'causing', 'cave', 'cbi', 'cbkwgl', 'cc', 'ccastaner', 'ce', 'celebration', 'celebrations', 'cell', 'cellphones', 'cent', 'center', 'central', 'centre', 'century', 'ceo_goa', 'ceo_uidai', 'ceoup', 'cerca', 'certainly', 'certificate', 'cessez', 'cest', 'chadi', 'chaega', 'chahte', 'chahti', 'chai', 'chair', 'chairs', 'chaiwala', 'chal', 'challenge', 'challenged', 'challenges', 'challenging', 'chamcho', 'chances', 'chandigarh', 'chandrashekhars', 'chang', 'change', 'changed', 'changeorg_india', 'changing', 'channel', 'channels', 'chant', 'chanted', 'chanting', 'chants', 'chap', 'character', 'charges', 'chashma', 'chasity', 'chathootti', 'chattisgarh', 'chaturvedi', 'chawal', 'chawdajaypal', 'che', 'cheap', 'cheated', 'cheatedhomebuyers', 'cheating', 'check', 'checks', 'cheez', 'chefbrianmodipa', 'chehre', 'chela', 'chetanbragta', 'chewing', 'chhin', 'chhoda', 'chhodo', 'chickens', 'chidambaram', 'chiediamo', 'chief', 'children', 'childrenarenotcommodities', 'china', 'chinese', 'chintanvedant', 'chirufollower', 'chit', 'chitraaum', 'chitrapadhi', 'chits', 'chk', 'choice', 'choix', 'chokidaar', 'chokidar', 'chokidhar', 'choose', 'choosing', 'choppers', 'chor', 'chose', 'chosen', 'chouhanshivraj', 'choukidar', 'chowkidaar', 'chowkidar', 'chowkidarchorhai', 'chowkidari', 'chowkidarnarendramodi', 'chowkidarphirse', 'chowkidars', 'christian', 'chronic', 'chup', 'chutkla', 'cibil', 'cibil_official', 'cierto', 'circle', 'citing', 'citizen', 'citizens', 'citizenship', 'cittadina', 'ciudades', 'civil', 'civilisation', 'civilizational', 'claim', 'claimed', 'claims', 'clarified', 'class', 'classe', 'cleaneating', 'cleaning', 'cleanliness', 'clear', 'cleared', 'clearly', 'click', 'clicking', 'climax', 'climbed', 'clinimcally', 'clives', 'clocks', 'clooney', 'closeness', 'cmd', 'cmofficeup', 'cmohry', 'cmomaharashtra', 'cnn', 'cnni', 'cnnnews', 'coalition', 'code', 'codice', 'coffin', 'coincidence', 'coined', 'collapsed', 'collapsing', 'collcartonjaune', 'colleague', 'collection', 'color', 'colour', 'combine', 'combined', 'come', 'comedian', 'comemos', 'comes', 'coming', 'command', 'commanding', 'comme', 'comment', 'comments', 'commie', 'committed', 'committee', 'commodifying', 'commodities', 'commodity', 'common', 'communal', 'community', 'como', 'comodidad', 'comodissima', 'companies', 'company', 'compare', 'compared', 'competition', 'competitor', 'complaints', 'complete', 'completely', 'comportamient', 'comportamiento', 'composed', 'compromising', 'computer', 'computerbaba', 'con', 'concern', 'concerned', 'concerning', 'concerns', 'concluding', 'conclusive', 'concoctions', 'concoted', 'condemn', 'condition', 'conduct', 'conducted', 'conducting', 'conference', 'conferred', 'confidence', 'confident', 'confirms', 'conformarse', 'cong', 'congi', 'congo', 'congratulations', 'congres', 'congress', 'congressi', 'congressional', 'congressneveragain', 'connect', 'connected', 'connection', 'conseille', 'consequence', 'considers', 'consolidate', 'conspiring', 'constituencies', 'constituents', 'constitution', 'construction', 'consumo', 'contagious', 'contest', 'contesting', 'contexto', 'continuamos', 'continue', 'continued', 'continues', 'continuous', 'continuously', 'contre', 'contro', 'control', 'controlados', 'controlled', 'controversy', 'convert', 'converted', 'convoy', 'cooch', 'cook', 'cooking', 'cool', 'cooperating', 'cop', 'copper', 'corner', 'cornered', 'correct', 'corroborating', 'corrupt', 'corruption', 'cosas', 'cost', 'costituzione', 'couldn', 'council', 'counsel', 'counter', 'countries', 'country', 'countrymen', 'courage', 'course', 'court', 'courtesy', 'courts', 'cover', 'cow', 'coward', 'coz', 'cp', 'cpi', 'cpm', 'cpmumbaipolice', 'cr', 'crackdown', 'cracks', 'craftsmen', 'crappy', 'crazy', 'crcel', 'create', 'created', 'creating', 'creative', 'credit', 'creo', 'crime', 'criminal', 'criminals', 'cris', 'crisis', 'critic', 'crocodile', 'crony', 'crook', 'crooks', 'crore', 'crores', 'cross', 'crosses', 'crowd', 'crowds', 'crpaatil', 'crpfindia', 'cruise', 'cry', 'crystal', 'csk', 'cualquier', 'cuando', 'cuenta', 'cuento', 'culprit', 'curb', 'currently', 'cursed', 'cvoter', 'cyclone', 'czasie', 'da', 'daal', 'daalunga', 'dad', 'daddy', 'dadu', 'daily', 'dal', 'dalga', 'dalih', 'dalit', 'dalungi', 'damaged', 'damages', 'damn', 'damned', 'damundialdelreciclaje', 'dan', 'dance', 'danger', 'dangerous', 'dans', 'dare', 'darpok', 'darta', 'dases', 'dasraghubar', 'dat', 'data', 'datadarbar', 'daughter', 'davduf', 'davidbruant', 'day', 'days', 'dbadeepakdubey', 'dbt', 'dc', 'de', 'dead', 'deal', 'dealer', 'dear', 'death', 'deaths', 'deb', 'debate', 'debateonletsbate', 'debera', 'decades', 'deceitfulness', 'december', 'deception', 'decide', 'decided', 'decisin', 'decision', 'decisions', 'deciso', 'declare', 'declared', 'declaring', 'declines', 'dedicato', 'deendayal', 'deepakbhx', 'deepakjpnp', 'deepvalesha', 'defamation', 'defeat', 'defeated', 'defence', 'defencepk', 'defend', 'defended', 'defends', 'defensively', 'deficit', 'defines', 'deformar', 'defy', 'degree', 'dei', 'dejar', 'dekhne', 'del', 'dela', 'delay', 'delhi', 'delhiiswithbjp', 'delhiwithmodi', 'deliberately', 'deliver', 'deliverance', 'delivered', 'delivers', 'delivery', 'dell', 'della', 'delusional', 'demande', 'demands', 'demeaning', 'democracy', 'democratic', 'democrats', 'demolished', 'demolishes', 'demonetisation', 'demonetization', 'demonitisation', 'dengan', 'denge', 'denied', 'departed', 'department', 'dependence', 'depressing', 'depression', 'derekobrienmp', 'des', 'descended', 'describe', 'desde', 'desecration', 'desenvolvimento', 'deserve', 'desh', 'deshbakht', 'deshbhakt', 'deshbolemodiphirse', 'deshdrohi', 'deshkagauravmodi', 'deshkamahatyohar', 'deshkedilmeimodi', 'deshkipasandmodi', 'deshkishaanmodi', 'deshmodikesaath', 'desimojito', 'desirable', 'desire', 'desistupides', 'desnonament', 'desperation', 'despicable', 'despite', 'despus', 'destroying', 'det', 'details', 'dethroned', 'deti', 'dev_fadnavis', 'devanshijoshi', 'deve', 'developed', 'developing', 'development', 'developmental', 'deveria', 'deveshrajoria', 'devi', 'devilji', 'devyanidilli', 'dewas', 'dey', 'dg', 'dgabbarsingh', 'dgn', 'dgpup', 'dharmendra', 'dhenkanal', 'dhpoliticaltheatre', 'dhruv_rathee', 'dhumes', 'di', 'dia', 'diaboliser', 'diakomodir', 'dial', 'diamond', 'dianasruas', 'diaries', 'dib', 'dice', 'dictatorship', 'dictionaries', 'dictionary', 'didi', 'didis', 'didn', 'die', 'died', 'diegodelorenzis', 'diesel', 'diet', 'difference', 'different', 'difficile', 'difficulties', 'digging', 'digital', 'dignity', 'digs', 'digvijay', 'digvijaya', 'dikha', 'dikhai', 'dikhaunga', 'dikhne', 'dikkat', 'dil', 'dilapidated', 'dilip', 'dilipghoshbjp', 'din', 'dindori', 'dinosaur', 'diplomatic', 'dire', 'directly', 'dirt', 'dirtier', 'disaster', 'disastrous', 'discharge', 'disclose', 'discourse', 'discovered', 'discuss', 'disease', 'diseases', 'disgrace', 'disgraced', 'disgusting', 'disheartening', 'dishing', 'disloyalty', 'dismissed', 'dismisses', 'dissected', 'dissed', 'distract', 'distraction', 'diversity', 'divert', 'divide', 'divided', 'divinity', 'divisions', 'divisive', 'divyamshu', 'divyan', 'divyaspandana', 'diwali', 'diya', 'dizer', 'djing', 'dkha', 'dmk', 'dmvaranasi', 'dna', 'dno', 'docufilm', 'doesn', 'dog', 'dogi', 'dogse', 'doleche', 'dollars', 'domsticas', 'don', 'donald', 'donthi', 'door', 'doordarshankidoordasha', 'doordarshankidurdasha', 'doordashakidurdasha', 'dopo', 'dos', 'dost', 'doubly', 'doubt', 'doum', 'downgrading', 'dpche', 'dprarohana', 'dput', 'dputs', 'dr', 'drag', 'dramatique', 'dramsinghvi', 'dravsriv', 'drawn', 'drdevendrakumar', 'drdineshbjp', 'dream', 'dreamgirlhema', 'dried', 'drink', 'drive', 'driven', 'driver', 'drmjaipur', 'drogas', 'droite', 'droits', 'drop', 'drrajeshdbhat', 'drrizwanahmed', 'drrutvij', 'drsanjaymayukh', 'drvarun', 'du', 'dua', 'dualarmz', 'dubejiinc', 'dug', 'dum', 'dumber', 'dumdum', 'dung', 'dunga', 'duo', 'duomodimilano', 'durbari', 'durga', 'dusted', 'duty', 'dynasty', 'dynastymuktamethi', 'dynesty', 'eagerly', 'earlier', 'early', 'earth', 'ease', 'easing', 'east', 'easy', 'eatwell', 'ebar', 'eby', 'ec', 'eci', 'ecisveep', 'economic', 'economically', 'economist', 'economy', 'ecosistema', 'ecosystem', 'ecpat', 'editorials', 'edoardo', 'education', 'effect', 'effectively', 'efforts', 'effsouthafrica', 'eggs', 'eguiguren', 'eh', 'eid', 'eiffel', 'eighties', 'einstein', 'ek', 'ek_proud_indian', 'ekbaarphirmodisarkar', 'ektp', 'el', 'ela', 'elder', 'elderly', 'elecciones', 'elect', 'elected', 'electing', 'election', 'electionalert', 'electioncommission', 'elections', 'electionsoutlook', 'electionswithht', 'electionswithnews', 'electionswithpk', 'electionswithtv', 'electionupdate', 'electionwatch', 'electorate', 'electric', 'electrification', 'electrifying', 'eleonora', 'eliminating', 'elleri', 'email', 'embarrassing', 'embarrassment', 'emendamento', 'emergency', 'eminent', 'emobility', 'emotional', 'employee', 'employees', 'empower', 'empowered', 'empowering', 'en', 'encounter', 'end', 'endgame', 'endorsed', 'endorsement', 'endorsing', 'enemies', 'energize', 'enfantsplacs', 'enfermedades', 'enfiar', 'eng', 'engage', 'engagera', 'english', 'enjoyable', 'enjoying', 'enjudiciament', 'enmodemacaron', 'enquiry', 'enrich', 'ensayos', 'ensine', 'enslaved', 'ensure', 'entering', 'enters', 'enthusiasm', 'entire', 'entrata', 'entscheidung', 'entweder', 'environment', 'epic', 'episdio', 'equanimity', 'equation', 'equip', 'equipment', 'era', 'eran', 'erase', 'erdogan', 'errrrrr', 'es', 'esa', 'escape', 'escapes', 'esdevenir', 'esistono', 'esp', 'espanyol', 'espaolas', 'esquerda', 'esse', 'est', 'esta', 'estas', 'estherpassaris', 'estimated', 'esto', 'estrategias', 'estudios', 'estuvo', 'et', 'etarra', 'etc', 'etches', 'ethos', 'etsin', 'eu', 'eua', 'eulogize', 'euphoria', 'europeennes', 'ev', 'eve', 'events', 'evergreen', 'everyday', 'everyvoteformodi', 'evidence', 'evirmesin', 'evm', 'evms', 'ex', 'example', 'exams', 'excesses', 'excised', 'exclusive', 'excomradekerala', 'excuse', 'excuses', 'execu', 'exemplar', 'exempt', 'exerceix', 'exercise', 'exiliados', 'exist', 'existed', 'expanding', 'expecting', 'expel', 'expense', 'experience', 'experienced', 'experiencing', 'expire', 'explained', 'explaining', 'explains', 'explanation', 'explosive', 'exporter', 'exports', 'expose', 'exposed', 'exposes', 'express', 'expressed', 'expression', 'exsecular', 'extended', 'extra', 'extradition', 'extreme', 'extrme', 'ey', 'eyca', 'eye', 'eyecontact', 'eyed', 'eyes', 'fabicazenave', 'fabricated', 'face', 'facilitated', 'facilities', 'facing', 'fact', 'factored', 'factory', 'facts', 'failed', 'failure', 'failures', 'fairly', 'fait', 'faith', 'faithful', 'fake', 'faked', 'fakery', 'faking', 'famiglia', 'familiar', 'families', 'family', 'fani', 'fans', 'far', 'farak', 'farle', 'farmers', 'farmington', 'farooqabdullah', 'farsantes', 'fascism', 'fascisti', 'fast', 'father', 'fauj', 'fauji', 'faulty', 'faut', 'faute', 'favorite', 'favou', 'favour', 'fayedsouza', 'fear', 'feared', 'feat', 'feb', 'february', 'feedback', 'feel', 'feeling', 'feku', 'fellow', 'felt', 'female', 'feminists', 'fer', 'fermare', 'ferry', 'festeggiare', 'fi', 'fictional', 'field', 'fielded', 'figaro', 'fight', 'fighter', 'fighters', 'fighting', 'figure', 'file', 'filed', 'filing', 'filipinorecipes', 'fin', 'final', 'finally', 'finance', 'financially', 'finch', 'find', 'fingers', 'finminindia', 'fir', 'fire', 'firekbarmodisarkar', 'firse', 'fiscal', 'fit', 'fixing', 'flag', 'flash', 'fled', 'flesh', 'flic', 'flotus', 'flying', 'focssing', 'focus', 'focusing', 'foire', 'folks', 'follow', 'followed', 'followers', 'following', 'follows', 'font', 'food', 'foodquality', 'fool', 'footing', 'force', 'forced', 'forces', 'fordaindia', 'forecast', 'foreign', 'foreigner', 'foreigners', 'forever', 'forget', 'forgive', 'forgotten', 'form', 'formati', 'fortunate', 'foul', 'found', 'foundation', 'fourteen', 'fr', 'fraco', 'france', 'francesca', 'francescam', 'frankly', 'fras', 'free', 'freed', 'freedom', 'freezing', 'french', 'frente', 'friday', 'fridayfeeling', 'fridaymotivation', 'fridaythoughts', 'friend', 'friendly', 'friends', 'frm', 'fronts', 'frustracin', 'frustrated', 'frustrations', 'frutales', 'frutas', 'fs', 'ft', 'ftarnz', 'fuck', 'fue', 'fuelled', 'fulfill', 'fulfilled', 'fumble', 'fumbles', 'fun', 'functioning', 'fund', 'fundamentalist', 'fundamentalists', 'funny', 'fuori', 'future', 'futureonstake', 'fy', 'gaali', 'gaalipolitics', 'gaand', 'gad', 'gaddar', 'gafa', 'gain', 'gains', 'galaxy', 'gambhirforeastdelhi', 'game', 'gamebanayeganame', 'gameofthrones', 'ganarle', 'gandhi', 'gandhiji', 'gandhijis', 'gandhipariwarchorhai', 'gandhis', 'gang', 'ganga', 'gangster', 'garder', 'gargoyles', 'garmi', 'garvit', 'gas', 'gathbandhan', 'gathered', 'gathering', 'gau', 'gaulle', 'gauravbjpindia', 'gautamgambhir', 'gautamgambhirs', 'gave', 'gaya', 'gayi', 'gdbakshije', 'gdp', 'gdy', 'gdzie', 'geiyorsunuz', 'gems', 'gen', 'gen_vksingh', 'genderbiasedlaws', 'general', 'generalelection', 'generalelections', 'generally', 'generals', 'generan', 'generations', 'geneticamente', 'gentle', 'genuine', 'george', 'germany', 'getinked', 'gets', 'getting', 'getwellsoonnamo', 'ghar', 'ghazipur', 'ghosi', 'ghulamnazad', 'gift', 'gifted', 'giletsjaunesgo', 'giornata', 'girirajsinghbjp', 'girishalva', 'girishgohil_bjp', 'girl', 'giv', 'given', 'gives', 'giving', 'gkmadathil', 'gkpabhishek', 'glasses', 'glielo', 'glimpse', 'global', 'globalatrender', 'globally', 'glorified', 'glorifying', 'gloss', 'glossed', 'gnral', 'goal', 'goals', 'god', 'godhra', 'godicommission', 'godimedia', 'gods', 'godse', 'goes', 'gogh', 'gogoi', 'going', 'goiter', 'gold', 'gone', 'good', 'goondiraj', 'goons', 'gopalkagarwal', 'gopimaniar', 'gorakhpur', 'gosta', 'gostar', 'got', 'gots', 'govern', 'governing', 'government', 'governments', 'governor', 'govt', 'govts', 'gowda', 'grace', 'graduate', 'grains', 'grant', 'granted', 'grants', 'grasp', 'grassroots', 'grateful', 'gratitude', 'grave', 'grayscaleinvest', 'great', 'greater', 'greatest', 'greatly', 'green', 'greetings', 'greta', 'gretathunberg', 'grew', 'grip', 'groomed', 'gross', 'ground', 'group', 'growth', 'grudge', 'grvora', 'gst', 'gt', 'guddi', 'guess', 'guest', 'guilty', 'gujarat', 'gujaratelections', 'gujral', 'gulaman', 'gundagardi', 'guptaarunarun', 'gurcharan', 'guts', 'guttermouth', 'guy', 'guys', 'gvlnrao', 'ha', 'haath', 'haben', 'haber', 'habibullah', 'habitual', 'hablar', 'hacer', 'hacis', 'hackearon', 'hadn', 'hafiz', 'haftawasooli', 'hagis', 'hahahaha', 'hahahahahaha', 'hai', 'hail', 'hailed', 'hailing', 'hails', 'hain', 'hakumat', 'halala', 'haldar', 'half', 'hallelujah', 'hamari', 'han', 'hand', 'handle', 'handler', 'hands', 'handshake', 'hang', 'hanged', 'happen', 'happened', 'happening', 'happens', 'happy', 'har', 'harass', 'harassment', 'harbirsinghsuri', 'harboothparmodi', 'harbour', 'hard', 'hardeepspuri', 'hardilmeimodi', 'hargharmodi', 'harirammaya', 'harishgariyabjp', 'harm', 'haryana', 'haryanavotekar', 'hasn', 'hastkala', 'hate', 'hater', 'hates', 'hatred', 'hats', 'hatsoff', 'haunting', 'having', 'hay', 'hb', 'hbdsaipallavi', 'hc', 'head', 'headed', 'headquarters', 'heads', 'health', 'healthyliving', 'heaps', 'hear', 'heard', 'hearing', 'heartfelt', 'hearts', 'heat', 'heckled', 'hectic', 'hegde', 'heights', 'held', 'helicopter', 'hello', 'helm', 'help', 'helped', 'helping', 'helples', 'helps', 'helt', 'hema', 'hemant', 'hemanttiwari', 'hemodialysis', 'hemodilisis', 'henne', 'hentai___queen', 'hentai_aoi_hime', 'hentaiidxd', 'hereis', 'hero', 'hey', 'hgsclmt', 'hi', 'hidden', 'hide', 'high', 'higher', 'highlight', 'highlights', 'highly', 'hilang', 'himachal', 'himalayanzen', 'hind', 'hindi', 'hindu', 'hindu_blood', 'hinduism', 'hindujedi', 'hindus', 'hindustan', 'hindutva', 'historian', 'historic', 'history', 'hit', 'hiteshk', 'hitler', 'hits', 'hkupdate', 'hllbarhetsmlen', 'hmm', 'hmoindia', 'ho', 'hoax', 'hoga', 'hold', 'holding', 'holds', 'holiday', 'holidays', 'holland', 'holy', 'home', 'homebuyers', 'homework', 'homme', 'hon', 'honest', 'honeymoon', 'honored', 'honorer', 'honourable', 'honours', 'hooghly', 'hook', 'hoon', 'hope', 'hora', 'horror', 'horrors', 'hospital', 'hospitals', 'hoti', 'hounding', 'hours', 'house', 'household', 'houses', 'howling', 'hoy', 'hq', 'hr', 'hriday', 'hs', 'hsiter', 'hte', 'htetey', 'hu', 'hua', 'huge', 'hui', 'human', 'humanity', 'humano', 'humormonger', 'hun', 'hundreds', 'hurled', 'hurt', 'husband', 'hv', 'hyped', 'hypocricy', 'hypocrisy', 'iaf', 'iamsrk', 'ianuragthakur', 'iavadesh', 'ibhagwa_n', 'ibne_sena', 'icon', 'idahobit', 'idatexell', 'iddsi_org', 'idea', 'ideas', 'ideological', 'ideology', 'idiotic', 'idiots', 'idolize', 'ie', 'iftar', 'iftikhar', 'igay', 'igc', 'igcconf', 'ignorance', 'ignore', 'ignoring', 'ihan', 'ii', 'iindrojit', 'ikapoorsid', 'il', 'ilegales', 'ilficca', 'illegal', 'ils', 'image', 'imagine', 'imf', 'immense', 'imminent', 'impacted', 'impeaching', 'implies', 'important', 'imprecise', 'imprisoned', 'impromptu', 'improve', 'improved', 'imran', 'imtaps', 'inaccuracies', 'inaccurate', 'inaction', 'inanlmaz', 'inaugurated', 'inauguration', 'inc', 'incessantly', 'incident', 'incindia', 'incindialive', 'incindias', 'included', 'includes', 'incluso', 'incmirzapur', 'incniku', 'income', 'incomodidad', 'incomodidades', 'incompetence', 'incorrect', 'increase', 'increasing', 'inctelangana', 'inctharoorian', 'incur', 'independence', 'india', 'indiabolemodidobara', 'indiabolemodiphirse', 'indiadecides', 'indian', 'indiannavy', 'indians', 'indias', 'indiatoday', 'indiatodays', 'indiavotes', 'indicating', 'indication', 'indices', 'indigenous', 'indira', 'indirectly', 'indo', 'indore', 'indorie', 'indukumari', 'indulging', 'inertia', 'infact', 'infection', 'inflation', 'influence', 'infra', 'infrastructure', 'infront', 'inhone', 'initiatives', 'injunction', 'inko', 'inmunosupresoras', 'inner', 'innings', 'innocent', 'innovation', 'innovative', 'ins', 'inside', 'insights', 'insignificant', 'instead', 'institutions', 'instrumentalisation', 'insult', 'insulted', 'insulting', 'insvirat', 'integrated', 'integrator', 'integrity', 'intel', 'intellectual', 'intellectuals', 'intelligent', 'intense', 'interacted', 'interested', 'interfering', 'internal', 'international', 'internautes', 'internazionale', 'internet', 'interview', 'intimidation', 'intresset', 'intrusion', 'inventing', 'inverview', 'investigating', 'investigation', 'investigative', 'iovadoatorino', 'ipl', 'iprabhakarsingp', 'ipraveendixit', 'iran', 'iron', 'irony', 'irrespective', 'irresponsible', 'irshadulhaque', 'isapnamishra', 'ise', 'ishashishekhar', 'ishqfm', 'ishrat', 'ishwarchandravidyasagar', 'isi', 'isinghapurva', 'iske', 'iski', 'islami', 'islamic', 'island', 'isn', 'isse', 'issue', 'issues', 'ist', 'italian', 'ite', 'itna', 'itu', 'itvideo', 'iyc', 'ja', 'jaane', 'jaayega', 'jab', 'jace', 'jack', 'jadi', 'jadu', 'jag', 'jagannkaushik', 'jahan', 'jahnavijain', 'jai', 'jaihind', 'jail', 'jains', 'jairamthakurbjp', 'jaishriram', 'jaitley', 'jako', 'jam', 'jamaat', 'jammu', 'janaushadhikendras', 'jane', 'jannonce', 'january', 'jaunpur', 'jayajaitly', 'jayantsinha', 'jayapradamp', 'jayega', 'jayprakash', 'je', 'jeetegatomodihi', 'jeetensingh', 'jeromedesudie', 'jesus', 'jets', 'jewa', 'jharkhand', 'jharkhandbolemodimodi', 'jhasanjay', 'jhuggi', 'ji', 'jibes', 'jihad', 'jihadi', 'jihadis', 'jihadistsgotohell', 'jkhc', 'jklf', 'jm_scindia', 'jmu', 'jo', 'job', 'jobs', 'join', 'joke', 'jokes', 'jonmodin', 'joota', 'jorgegonex', 'josh', 'joshi', 'jouer', 'journalist', 'journalists', 'journo', 'journos', 'joys', 'jpnadda', 'jsaideepak', 'jspandey', 'judgement', 'judiciary', 'jueves', 'jug', 'juganu', 'jumlah', 'jumped', 'jun', 'june', 'justa', 'juste', 'justice', 'justiceforvishnugoswami', 'justicia', 'justmodi', 'juta', 'juxtaposition', 'jvidyasagar', 'jyada', 'jyoti_saffron', 'jyotsnadevi', 'jyotsnavarma', 'ka', 'kaafi', 'kaam', 'kaarsevaks', 'kab', 'kabaddi', 'kabhi', 'kabir', 'kabiran', 'kabul', 'kafur', 'kahan', 'kahit', 'kai', 'kailashonline', 'kaise', 'kajal_jaihind', 'kalbi', 'kalbini', 'kalighat', 'kamal', 'kamino', 'kanchankool', 'kanimozhi', 'kantapal', 'kanwal', 'kanyakumari', 'kapilmishra_ind', 'kapilsibal', 'kapoorashok', 'kar', 'kara', 'karar', 'kararna', 'karcha', 'karde', 'kareen', 'karkare', 'karma', 'karna', 'karnataka', 'karne', 'karo', 'karta', 'karte', 'karwa', 'karyakarta', 'kasba', 'kashi', 'kashibolenamonamo', 'kashikirai', 'kashimodified', 'kashivotes', 'kashmir', 'kashmiri', 'kasi', 'katariaambala', 'kateel', 'kattar', 'kavita_krishnan', 'kaynak', 'ke', 'kedarnath', 'kee', 'keeping', 'keeps', 'kehta', 'kehte', 'keine', 'kejriwal', 'kejriwalchewtiyahai', 'kemendagri', 'kepegawaian', 'kept', 'kerala', 'keralacastro', 'kesari', 'keshavyadaviyc', 'key', 'keyesen', 'khabiran', 'khalakassmaavaati', 'khalunga', 'khan', 'khane', 'kharge', 'khargone', 'khatam', 'khauf', 'khaunga', 'khayal', 'khesarily', 'khud', 'ki', 'kia', 'kickbacks', 'kicked', 'kidney', 'kids', 'kii', 'kill', 'killed', 'killers', 'killing', 'killings', 'kim', 'kind', 'kinda', 'kindly', 'king', 'kirantikari', 'kiriye', 'kirronkherbjp', 'kisan', 'kishan', 'kisi', 'kisses', 'kiwn', 'km', 'kmc', 'knew', 'know', 'knowing', 'known', 'knows', 'ko', 'koi', 'kolkata', 'kon', 'konsorsium', 'kotler', 'kovalam', 'kpmaurya', 'kpu', 'krajeebanker', 'krishnacomedian', 'krrishshankhwar', 'krte', 'kschib', 'kssirone', 'kuc', 'kumar', 'kunalkamra', 'kung', 'kuvalayamala', 'kvq', 'kya', 'kyll', 'kytt', 'kyu', 'la', 'labour', 'labourministry', 'lac', 'lachchan', 'lack', 'lacked', 'ladakh', 'laddu', 'laddus', 'ladka', 'lady', 'lag', 'laga', 'laginsats', 'lahoreblast', 'laid', 'lakh', 'lakhcr', 'lakhs', 'lakshadweep', 'lakshwadeep', 'lallantop', 'lambaalka', 'lambasts', 'land', 'landings', 'landmark', 'lands', 'lang', 'language', 'lapses', 'lardire', 'large', 'larger', 'largest', 'las', 'late', 'later', 'latest', 'latkowski', 'lauded', 'laughed', 'lavish', 'law', 'laws', 'laxit_parsana', 'laxman', 'lder', 'le', 'lead', 'leader', 'leaders', 'leadership', 'leading', 'leads', 'league', 'leaking', 'learn', 'learns', 'leave', 'lec', 'led', 'ledare', 'ledwho', 'left', 'legacy', 'legitimize', 'leisure', 'lemme', 'lemondefr', 'lemons', 'len', 'length', 'lengths', 'les', 'let', 'lets', 'lettera', 'level', 'levels', 'liar', 'liars', 'liberal', 'liberals', 'libro', 'lic', 'lie', 'lied', 'lieing', 'lies', 'life', 'lifestyle', 'lifestylechange', 'light', 'lights', 'like', 'likes', 'lillymarypinto', 'limit', 'limited', 'linde', 'lindustria', 'line', 'liner', 'lines', 'link', 'lip', 'liquidation', 'list', 'lista', 'listed', 'listen', 'lists', 'lite', 'literally', 'litre', 'litres', 'little', 'live', 'liveaction', 'lived', 'livehealthy', 'lives', 'living', 'liya', 'liye', 'lkadvani', 'll', 'llama', 'llano', 'llei', 'lnce', 'lo', 'loan', 'loans', 'loc', 'local', 'locations', 'lockedinlust', 'logged', 'logic', 'logo', 'loi', 'lok', 'loksabha', 'loksabhaelection', 'loksabhaelections', 'lol', 'loneliness', 'long', 'look', 'looking', 'looks', 'loose', 'loosebool', 'looted', 'loquacious_lion', 'lord', 'loreal', 'los', 'lose', 'loser', 'loses', 'loss', 'lost', 'lot', 'lotus', 'lourd', 'love', 'loved', 'lover', 'loves', 'low', 'lowest', 'loyalty', 'lpn', 'ls', 'ltd', 'ltima', 'lui', 'lutyens', 'luxury', 'lyckas', 'lying', 'lynching', 'm_lekhi', 'm_rohit', 'ma', 'maa', 'maafimaangomodi', 'maan', 'maanu', 'maarke', 'maarna', 'macguru', 'macharajarao', 'machine', 'macros', 'madan', 'maddy', 'madeonshelter', 'madhukishwar', 'madhuparna_et', 'madhya', 'madhyapradesh', 'maduro', 'maggio', 'mahal', 'mahamilavat', 'mahanayak_modi', 'maharaj', 'maharana', 'maharanapratap', 'maharashtra', 'maharshiday', 'mahatma', 'mahatmagandhi', 'mahendra', 'maheshjoshi_mj', 'mai', 'maibhichaukidar', 'maibhichowkidaar', 'maibhichowkidar', 'maidan', 'mail', 'main', 'mainbhichowkidar', 'mainly', 'mainstream', 'maintain', 'mais', 'major', 'majorit', 'majoritarian', 'majority', 'makers', 'makes', 'making', 'makrandparanspe', 'mala', 'malaise', 'malaya', 'malaysia', 'malegaon', 'malign', 'maligning', 'malik', 'maltiupadhyay', 'mamata', 'mamatabanerjee', 'mamatadidijaishriram', 'mamataoffical', 'mamataofficiai', 'mamataofficial', 'mamataofficials', 'mamla', 'mamta', 'man', 'manakgupta', 'mandated', 'mandateofdevelopingindia', 'mandeepbajwa', 'mandikachowkidar', 'mandir', 'manera', 'mango', 'mani', 'manmohan', 'manmohansinghpm', 'manogya', 'manogyaloiwal', 'manohar', 'manojtiwarimp', 'manoranjana', 'mantra', 'mantri', 'map', 'maptition', 'maquettes', 'marchanapandey', 'marg', 'margin', 'mark', 'marked', 'market', 'markets', 'marks', 'marlene', 'marna', 'married', 'martyr', 'martyred', 'mas', 'masjid', 'mask', 'maska', 'masood', 'mass', 'massacre', 'masses', 'massive', 'master', 'masterful', 'masters', 'masuk', 'mat', 'match', 'material', 'matlab', 'matter', 'matthewmodine', 'mature', 'mau', 'maut', 'mavalloksabha', 'mayankredkop', 'mayawati', 'maybe', 'maywithtimesnow', 'me_locket', 'mea', 'meals', 'meaning', 'measly', 'mec', 'med', 'medal', 'media', 'mediacrooks', 'mediagaurav', 'mediana', 'mediasurya', 'medicacin', 'medical', 'medicamentos', 'medicines', 'medidas', 'meditate', 'meditating', 'meditation', 'meet', 'meeting', 'meetings', 'meghagupta', 'meghasprasad', 'mehboobamufti', 'mehtas', 'mein', 'mejor', 'melalui', 'melody', 'member', 'meme', 'memorable', 'men', 'menjadi', 'menonarvindbjp', 'menscommission', 'mental', 'mentality', 'mention', 'mentions', 'mentoo', 'mere', 'merely', 'meri', 'meriv', 'meslight', 'mesmerieye_zer', 'mesmo', 'mess', 'message', 'messages', 'messaggio', 'messaging', 'met', 'method', 'mfn', 'mgb', 'mgnayak', 'mi', 'microsoft', 'mid_day', 'middle', 'middleman', 'midst', 'miedo', 'migliore', 'miguel', 'mikesonko', 'milano', 'milega', 'milenge', 'miles', 'milinddeora', 'military', 'millennia', 'million', 'millions', 'mimizenta', 'min', 'mind', 'minds', 'mini', 'miniscule', 'minister', 'ministers', 'ministre', 'ministries', 'ministro', 'ministry', 'minutes', 'mirror', 'mirrornow', 'mirzapur', 'mischief', 'misdeeds', 'misreport', 'miss', 'missafi', 'missed', 'missing', 'mission', 'mistake', 'mistaken', 'mistresses', 'misused', 'misusing', 'mitra', 'mitro', 'mixed', 'mkstalin', 'mlartinget', 'mlkhattar', 'mmastarji', 'mms', 'mnomics', 'mo', 'mob', 'mobility', 'mock', 'mode', 'modelo', 'modern', 'modi', 'modiaanewalahai', 'modiagain', 'modiagainsaysindia', 'modibharosa', 'modideshkishaan', 'modiface', 'modifails', 'modifi', 'modifica', 'modificaci', 'modificados', 'modifican', 'modificar', 'modification', 'modificou', 'modifie', 'modified', 'modified_sher', 'modifiedvikas', 'modifient', 'modifier', 'modifies', 'modifor', 'modify', 'modig', 'modiga', 'modigliani', 'modigovernment', 'modihaikaamdar', 'modihaintomumkinhai', 'modihaitohmumkinhai', 'modihaitomumkinhai', 'modihaitovikashai', 'modihiaayega', 'modiinsviraatattack', 'modijahanvikaswahan', 'modiji', 'modiji_helpus', 'modijis', 'modikafakegdp', 'modikoe', 'modiledubega', 'modilie', 'modilies', 'modimadedisaster', 'modimeinhaidum', 'modimomixwell', 'modineveragain', 'modinha', 'modinomics', 'modiobsession', 'modioncemore', 'modionindiatv', 'modionzee', 'modiporter', 'modis', 'modisarkar', 'modisco', 'modisitalia', 'modispeakstobharat', 'modisto', 'moditohgaya', 'moditotimesnow', 'moditsunamo', 'modivanibharat', 'modivirus', 'modiwave', 'mods', 'modus', 'moh_kenya', 'mohanbhagwat', 'mohfw_india', 'mohsinkhan', 'moily', 'moins', 'molesting', 'molto', 'moment', 'momo_mohsin', 'mon', 'money', 'monsieur', 'monster', 'month', 'months', 'monurajasthan', 'moonsofficial', 'moped', 'moral', 'morale', 'morality', 'morning', 'morningfuture', 'moron', 'morphed', 'mort', 'mos', 'moteur', 'moteurs', 'mother', 'mothersday', 'motion', 'motivated', 'motive', 'motorized', 'motormouth', 'mouth', 'mouthful', 'moved', 'movements', 'moving', 'moyens', 'mp', 'mplodha', 'mps', 'mr', 'ms', 'msg', 'msisodia', 'mslman', 'msm', 'msme', 'msopmodii', 'muck', 'mudi', 'mudra', 'mueller', 'muellers', 'mufasa', 'muft', 'mughal', 'muglikar', 'mujhe', 'mujhse', 'mukt', 'multiple', 'mumbai', 'mumbles', 'mundo', 'municipales', 'municipality', 'murali', 'muralikrishnae', 'murder', 'murdering', 'murderofmerit', 'murleetn', 'musaimaan', 'musicians', 'musk', 'musli', 'muslim', 'muslims', 'muslismm', 'mvmeet', 'myfellowindians', 'myogiadityanath', 'mysterious', 'myth', 'na', 'naamard', 'nahi', 'nai', 'naik', 'nail', 'nailed', 'nails', 'nairobi', 'nalinkumar', 'nallah', 'nam', 'nambiji', 'namdar', 'named', 'names', 'namo', 'namo_again', 'namoagain', 'namofornewindia', 'namokovotekaro', 'nangafying', 'naqaab', 'nar', 'naranja', 'narender', 'narendra', 'narendramodi', 'narendramodi_in', 'narendramodijindabad', 'narendramodis', 'narenrdamodi', 'narrative', 'narsipkaur', 'nascondendo', 'nathruamgodse', 'nathu', 'nathuram', 'nathuramgodse', 'nation', 'national', 'nationalism', 'nationalist', 'nationality', 'naturales', 'naturalgas', 'nature', 'naukarshahi', 'nautanki', 'naval', 'navaratri', 'naveen_odisha', 'navjot', 'navy', 'nawab', 'nayay', 'nc', 'nd', 'nda', 'ndia', 'ndo', 'ndtv', 'ne', 'nearby', 'nearly', 'necessary', 'neech', 'need', 'needed', 'needless', 'needs', 'neel_apte', 'neeraj', 'neerangautam', 'neetugarg', 'negar', 'negara', 'negative', 'negotiable', 'nehr_who', 'nehru', 'nei', 'nekkid', 'nel', 'nella', 'nenhum', 'neo_pac', 'nero', 'nervous', 'net', 'netflix', 'neuf', 'new', 'newframe_news', 'newindia', 'news', 'newshtn', 'newsindia', 'newsnationtv', 'newss', 'nfestival', 'ngel', 'ngt', 'nhi', 'nhow', 'ni', 'niamor', 'nice', 'nie', 'night', 'nightmare', 'nights', 'nikaal', 'nikhil', 'nikhildubei', 'nikle', 'nimeshchandra', 'niptane', 'nirahua', 'nirupam', 'nisa', 'nischalshetty', 'nishantchat', 'nishantvarma', 'nitin_gadkari', 'nitinipf', 'nitinjhabbu', 'nitishkumar', 'nmannathukkaren', 'nmero', 'nmy', 'nocountrywomen', 'nofake', 'nohi', 'nomination', 'nomo', 'non', 'nonsense', 'normal', 'norms', 'north', 'northeast', 'nos', 'nostra', 'nota', 'notable', 'note', 'notebandi', 'noticed', 'notices', 'noun', 'nous', 'nouvelle', 'nov', 'novotertobeleftbehind', 'nphoto', 'nr', 'nsbchd', 'nsitharaman', 'nsomething', 'nt', 'nthis', 'ntwanayamodimo', 'nuclear', 'number', 'numbers', 'numerology', 'nut', 'nutrition', 'nvideo', 'nvoter', 'ny', 'nyay', 'nyayvsanyay', 'nytimes', 'obama', 'obert', 'obey', 'objected', 'objectionable', 'oblivion', 'obsessed', 'obsessive', 'obvious', 'occasion', 'occasionally', 'ocean', 'och', 'ocidentais', 'odd', 'oder', 'odin', 'odisha', 'odishaelections', 'offensive', 'office', 'officeofknath', 'officer', 'officers', 'official', 'officials', 'oficio', 'oh', 'oikeesti', 'oil', 'ok', 'okarthik', 'olarak', 'old', 'older', 'oleh', 'olsun', 'om', 'omarabdullah', 'ominous', 'omofobia', 'onarrive', 'onboard', 'one_by_two', 'onepluspro', 'ones', 'ongoing', 'onlinerajan', 'ont', 'oops', 'open', 'opening', 'openly', 'operandi', 'opi', 'opindia', 'opindia_com', 'opine', 'opinion', 'opinions', 'opportune', 'opportunity', 'option', 'opulent', 'order', 'ordinance', 'organisation', 'original', 'originalanmol', 'orina', 'ottavio', 'ottemperanza', 'otvnews', 'ou', 'oui', 'our_da', 'oust', 'outcome', 'outgoing', 'outlook', 'outmanoeuvred', 'outraged', 'outreach', 'outs', 'outside', 'outsmart', 'outstanding', 'overall', 'overcoming', 'overrated', 'overturn', 'overwhelmed', 'owaisi', 'owner', 'owners', 'oxford', 'p_sahibsingh', 'pa', 'paapiyon', 'paar', 'pac', 'pacientes', 'pacifie', 'pack', 'pag', 'pages', 'pahani', 'paid', 'paint', 'pak', 'pakistan', 'pakistani', 'pakistans', 'pakpremi', 'palcem', 'pan', 'panchaljirajesh', 'pandey', 'pandeyashishh', 'pandith', 'panic', 'panik', 'panna', 'panoramica', 'paper', 'papers', 'pappu', 'pappumodi', 'pappumutra', 'par', 'para', 'paradigma', 'parado', 'paranoia', 'paranoid', 'paraskghelani', 'parce', 'pare', 'parebuffle', 'parents', 'parischa', 'park', 'parliament', 'parliamentary', 'parrikar', 'parsa', 'parte', 'parthformaval', 'participate', 'particularly', 'partida', 'partied', 'parties', 'party', 'partys', 'parulia', 'parvathinp', 'pas', 'pasado', 'pasan', 'pasricha', 'pass', 'passed', 'passes', 'passing', 'past', 'patel', 'patels', 'pathetic', 'pathological', 'patience', 'patients', 'patna', 'patr', 'patriot', 'patriotism', 'patriots', 'patrouille', 'paura', 'pavanranarss', 'pawankhera', 'pawar', 'pax', 'payalrohatgi', 'paying', 'pays', 'pca', 'pcmohanmp', 'pdf', 'pe', 'peace', 'pedimos', 'pedofili', 'pegawai', 'pegou', 'pehle', 'pel', 'pelotudos', 'pelters', 'pemilih', 'penalised', 'penambahan', 'pending', 'peope', 'people', 'peoplepubit', 'peoples', 'perdendo', 'perfect', 'perfectionists', 'perfidy', 'performance', 'period', 'permission', 'person', 'personal', 'personalities', 'personally', 'personas', 'pessimism', 'pest', 'pet', 'petit', 'petition', 'petrol', 'phase', 'phases', 'phenomenon', 'philip', 'phirekbaarmodisarkaar', 'phirekbaarmodisarkar', 'phirekbarmodisarkar', 'phoolan', 'photo', 'physical', 'pi', 'pib_india', 'pic', 'pichhattees', 'pichle', 'pick', 'picked', 'picks', 'pics', 'picture', 'pictures', 'piece', 'pieces', 'pierdan', 'pig', 'pil', 'pimp', 'pinned', 'pinoyrecipeatibapa', 'pinoyrecipes', 'pir', 'pirpanjal', 'pitched', 'pitroda', 'pittance', 'piyushgoyal', 'piyushgoyaloffc', 'place', 'plan', 'planet', 'planning', 'platinum', 'play', 'playing', 'pleased', 'pliable', 'pll', 'plot', 'plots', 'plotted', 'ploy', 'pls', 'plus', 'plz', 'pm', 'pmay', 'pmb', 'pmmodi', 'pmmodionabp', 'pmoindia', 'pmrajivjibe', 'pms', 'pnb', 'pnrathod', 'pnri', 'poda', 'point', 'pointing', 'poisoning', 'poland', 'polands', 'polarization', 'police', 'policeman', 'policerajasthan', 'policies', 'policy', 'political', 'politician', 'politicians', 'politicise', 'politics', 'polity', 'poll', 'polling', 'polls', 'pollswithapn', 'poltica', 'polymer', 'pomonemodi', 'pondr', 'pooja', 'poojabeditweets', 'poojawalia', 'poonam_mahajan', 'poonamdeo', 'poor', 'pop', 'popular', 'population', 'populist', 'por', 'porfavor', 'porque', 'portioncontrol', 'portone', 'position', 'positive', 'posizione', 'possibili', 'possible', 'post', 'poster', 'posters', 'posting', 'postopinions', 'pot', 'potentially', 'pour', 'pourquoi', 'poverty', 'power', 'powerful', 'powers', 'ppl', 'ppp', 'pr', 'pra', 'pracowaem', 'pradesh', 'pradhan', 'prafullaketkar', 'pragya', 'pragyasinghthakur', 'pragyathakur', 'praise', 'praised', 'prajya', 'pramukhs', 'pranams', 'prannoy', 'prannoyroyndtv', 'prasarbharati', 'pratap', 'pratibha_bali', 'praveen', 'pray', 'prayagraj', 'prayed', 'prays', 'pre', 'precedent', 'pregnancies', 'prem', 'premi', 'premier', 'premiers', 'preparedness', 'pres', 'present', 'presented', 'presenting', 'presided', 'president', 'presidente', 'presidential', 'press', 'pressing', 'pressure', 'pretty', 'prettypadmaja', 'prevail', 'prevent', 'previous', 'previously', 'price', 'pride', 'prima_she', 'prime', 'primeiro', 'primeminister', 'prince', 'princearihan', 'princessdiyakumari', 'principal', 'print', 'prints', 'prioritiesed', 'priority', 'private', 'privilege', 'priyaaryaputri', 'priyanka', 'priyankagandhi', 'priyankagandhis', 'priyasethibjp', 'pro', 'probably', 'problem', 'process', 'procurement', 'prodigal', 'producing', 'prof_hariom', 'profit', 'programmes', 'programs', 'progression', 'progressive', 'project', 'promise', 'promised', 'promises', 'promising', 'promoters', 'prood', 'proof', 'propaganda', 'property', 'prosecute', 'prospects', 'prosperity', 'prossimi', 'protection', 'protestagainstprescution', 'protests', 'protocol', 'protocolo', 'proud', 'prove', 'proved', 'proven', 'proves', 'provides', 'providing', 'proviennent', 'prowess', 'prprio', 'prximas', 'przypadkw', 'ps', 'psbs', 'psicolgica', 'psoe', 'psus', 'psychological', 'pti_news', 'ptition', 'ptitions', 'ptshrikant', 'pu', 'pubblica', 'pubgmobile', 'public', 'publicity', 'pueblo', 'pueden', 'pues', 'puisque', 'puja', 'pulisce', 'pulled', 'pulwama', 'pun_starr', 'punch', 'punchnama', 'pune', 'punishing', 'puralia', 'pure', 'puri', 'puriforamritsar', 'purity', 'purulia', 'push', 'pushpendrakum', 'putin', 'putting', 'pvishnukant', 'pyaar', 'pyar', 'pyasa', 'qaso', 'qey', 'qqyivoumagbvk', 'qua', 'qualcosa', 'qualcuno', 'quale', 'qualsevol', 'quando', 'quanto', 'quashed', 'que', 'queen', 'queen__hancock', 'queer', 'quelques', 'quem', 'question', 'questioned', 'questioning', 'questions', 'qui', 'quic', 'quienes', 'quiet', 'quinfluencer', 'quotes', 'quran', 'ra_negm', 'ra_thore', 'rabbim', 'rabbimiz', 'rabindrajayanti', 'rabindranath', 'rabofoodagri', 'rabridevirjd', 'racecourse', 'radhaswami_soul', 'radio', 'radom', 'rae', 'rafael', 'rafale', 'ragalie', 'raha', 'rahe', 'rahul', 'rahuldev', 'rahulgandhi', 'rahulgandhibaklolhai', 'rahulgandhis', 'rahulisms', 'rahulkabaapchorhai', 'rahulkachallenge', 'rahulkanwal', 'rahulroushan', 'rahulsinhabjp', 'rai', 'raids', 'railway', 'railwayseva', 'raised', 'raises', 'raj', 'raj_sri', 'rajasthan', 'rajasthanroyals', 'rajbabbarmp', 'rajdevj', 'rajeev', 'rajeevkumar', 'rajeevthukral', 'rajesh', 'raji_iyer', 'rajiv', 'rajivg', 'rajivgandhi', 'rajivgandhichorhai', 'rajivgandhichorhain', 'rajksinghindia', 'rajnathsingh', 'rajoutant', 'rajthackeray', 'rajtiwa', 'raked', 'rakes', 'rakha', 'rakshaks', 'rallies', 'rally', 'ram', 'ramadan', 'ramdas', 'ramdasathawale', 'ramesh_bjp', 'ramlal', 'ramlila', 'rammadhavbjp', 'rampal', 'ramraj', 'ranaayyub', 'randeep', 'randomadmi', 'ranganaathan', 'rangoli', 'raniroyrocky', 'ranjan', 'ranjeet', 'ranked', 'rant', 'rapacious', 'rape', 'rare', 'rarity', 'rashtrapatibhvn', 'ratansharda', 'rate', 'rates', 'ratificado', 'ratna', 'raungi', 'ravi', 'ravikishann', 'ravinarin', 'ravindrak', 'ravish', 'razarumi', 'razoor', 'rbi', 'rboles', 'rcbtweets', 'rcslt', 'rd', 'rds', 'reaches', 'react', 'reaction', 'read', 'reading', 'ready', 'real', 'realhistorypi', 'reality', 'realize', 'realized', 'reallyswara', 'reaped', 'reason', 'reasons', 'recall', 'received', 'recent', 'recep', 'recipe', 'recognises', 'recommandation', 'recommandations', 'recommended', 'record', 'recorded', 'records', 'recovery', 'redchilliesent', 'reduce', 'reduced', 'reducir', 'reference', 'referring', 'refers', 'reflect', 'reformist', 'reforms', 'regard', 'regarded', 'regarder', 'regime', 'regional', 'regions', 'registered', 'rehearse', 'reinebow', 'reject', 'rejected', 'rejection', 'relating', 'relationship', 'relatives', 'relatore', 'relax', 'relent', 'reli', 'reliance', 'religion', 'religions', 'remain', 'remark', 'remarks', 'remember', 'remercions', 'reminded', 'reminder', 'remove', 'removed', 'removing', 'renamed', 'rendant', 'rendre', 'renewed', 'renmishra', 'renukajain', 'renukasingh', 'repealed', 'repeat', 'repeated', 'repeatedly', 'replied', 'reply', 'report', 'reported', 'reporter', 'reporterdiary', 'reports', 'reposing', 'represents', 'repressing', 'repubblica', 'republic', 'reputation', 'request', 'requieres', 'require', 'rescuing', 'reservation', 'reside', 'residence', 'residuos', 'resign', 'resort', 'resorted', 'resorting', 'resources', 'respect', 'respected', 'respond', 'responded', 'response', 'responses', 'responsibility', 'responsible', 'rester', 'resto', 'resultados', 'resulted', 'results', 'retail', 'retd', 'retired', 'retraction', 'return', 'returns', 'retweet', 'retweets', 'reup', 'reveal', 'reveals', 'revived', 'revolution', 'revs', 'rewarded', 'rewards', 'rewrite', 'rgforpm', 'rgpm', 'rha', 'riarevealed', 'ribu', 'richer', 'rickshaw', 'ricordarvi', 'ridculo', 'ride', 'rien', 'right', 'rightful', 'rightlog_in', 'riots', 'ripete', 'rips', 'rise', 'rishibagree', 'risposta', 'rivabajadeja', 'rival', 'rizgarakan', 'rld', 'rn', 'ro', 'road', 'roadindia', 'roadmap', 'roads', 'roadshow', 'roasting', 'rob', 'robert', 'robinson', 'robotics', 'rode', 'rods', 'rohini_sgh', 'roja', 'rok', 'role', 'romeshnadir', 'romila', 'romy', 'rondu', 'roo', 'roof', 'roohafza', 'rooms', 'rosa', 'roshankrrai', 'roshnirt', 'rotefuchs', 'roteiro', 'round', 'roundlike', 'rousing', 'row', 'roy', 'royalty', 'rrazzaqpmln', 'rs', 'rsprasad', 'rss', 'rssorg', 'rssurjewala', 'rt', 'rt_erdogan', 'rti', 'rtoday', 'rubbed', 'rubbish', 'rubikaliyaquat', 'rudra_klsh', 'ruined', 'rule', 'ruling', 'rumour', 'run', 'running', 'runs', 'rupashreenanda', 'rupasubramanya', 'rural', 'russia', 'rvaidya', 'rzdzi', 'sa', 'saa', 'saaf', 'saagar_anand', 'saal', 'saalana', 'saale', 'saansado', 'saath', 'sab', 'sabha', 'sabka', 'sabotaged', 'sabr', 'sabsabadajhootamodi', 'sabse', 'sabsebadajhootamodi', 'sabsebadajhoothamodi', 'sachaai', 'sack', 'sacked', 'sacrifice', 'sad', 'sadhavi', 'sadhnatv', 'sadhus', 'sadhvi', 'sadhvipragya_mp', 'saeed', 'safe', 'safer', 'safety', 'saffron', 'saga', 'sagaftra', 'sagarikaghose', 'sagenaradamuni', 'sago', 'sahara', 'sahijrandhawa', 'sahilvikas', 'said', 'saison', 'sako', 'sakte', 'salen', 'salikabata', 'salmankhurshid', 'salone', 'sam', 'samajwadi', 'samay', 'sambit_swaraj', 'sambitswaraj', 'sampitroda', 'sample', 'samrat', 'sanction', 'sandas', 'sandeepfromvns', 'sandhyapanchal', 'sangathan', 'sangh', 'sanjay', 'sanjayazadsln', 'sanjaygobind', 'sanjayuvacha', 'sanjiv', 'sanju', 'sanjukta', 'sankul', 'sant', 'sapna', 'sarasvuojari', 'saraxstan_kiddo', 'sarcasticrofl', 'sardanarohit', 'sardesairajdeep', 'saree', 'sari', 'sarif', 'sarkaar', 'sarkar', 'sarojpandeybjp', 'sath', 'satsukrit', 'satyajeettambe', 'satyanewshi', 'satyug', 'saudagar', 'savarkar', 'save', 'savebengalsavedemocracy', 'savedemocracysavebengal', 'savejpwishtown', 'savesabrimala', 'saving', 'savings', 'saw', 'saying', 'sayo', 'says', 'sc', 'scam', 'scams', 'scamsters', 'scarce', 'scared', 'scarves', 'scenes', 'scheme', 'school', 'schools', 'scindhia', 'scjudgments', 'scomoda', 'scorching', 'score', 'scorpio', 'screen', 'screenshot', 'script', 'scroll_in', 'se', 'sealing', 'season', 'seat', 'seats', 'second', 'secondo', 'secretarydea', 'secrets', 'section', 'sector', 'secular', 'secularism', 'securities', 'security', 'seeing', 'seeking', 'seeks', 'seen', 'sees', 'sefane', 'seguido', 'seguridad', 'select', 'selecting', 'self', 'selfie', 'selfish', 'selfless', 'selisih', 'sell', 'semi', 'sena', 'send', 'sending', 'sendo', 'sengarajay', 'sengarlive', 'senior', 'sense', 'sensex', 'sensors', 'sentiments', 'senza', 'seores', 'sep', 'ser', 'serial', 'seriousfunnyguy', 'seriously', 'servant', 'serve', 'server_podivan', 'service', 'services', 'sest', 'set', 'setara', 'setting', 'settore', 'seven', 'sewage', 'sex', 'sexual', 'sga', 'sgu', 'sh', 'shaadi', 'shackles', 'shade', 'shadow', 'shadows', 'shah', 'shahid_siddiqui', 'shahonnews', 'shalabhmani', 'sham', 'shame', 'shameful', 'shameless', 'shamelessly', 'shameonamazon', 'shameonpmmodi', 'shankar', 'sharad', 'sharadyadavmp', 'share', 'shared', 'shares', 'sharia', 'sharma', 'shashidigital', 'shashitharoor', 'shatrughan', 'shedding', 'shefvaidya', 'shehzad_ind', 'shelarashish', 'sherryontopp', 'shilpithard', 'shimla', 'ship', 'ships', 'shit', 'shiv', 'shivani', 'shocked', 'shocking', 'shoot', 'short', 'shouldn', 'showed', 'showered', 'showing', 'shown', 'shows', 'shree', 'shri', 'shroud', 'shubho', 'shuru', 'shut', 'si', 'sia', 'sick', 'sickening', 'siddaramaiah', 'siddharth', 'siddharthanbjp', 'siddhu', 'sideshow', 'sidhu', 'sido', 'sifydotcom', 'sig', 'sighed', 'signals', 'signaturebridge', 'sihet', 'silence', 'silent', 'simple', 'simply', 'sin', 'singapore', 'singh', 'singh_harmeet', 'singhawantika', 'single', 'sinha', 'sink', 'sins', 'siquiera', 'sir', 'sirius', 'sirpareshrawal', 'sister', 'sittati', 'sitting', 'situation', 'siya', 'siyah', 'ska', 'skamitalia', 'skfc', 'skill', 'skills', 'sky', 'sl', 'slap', 'slapping', 'slaps', 'slated', 'slaves', 'sledgehammer_ff', 'sleep', 'sleepless', 'slept', 'slip', 'slipper', 'slo', 'slogan', 'slogans', 'slowed', 'slowly', 'sls', 'smart', 'smartly', 'smitabarooah', 'smitamukerji', 'smoggy', 'smritiirani', 'smt', 'snikhil_social', 'soaked', 'sobre', 'social', 'sociales', 'socialistfuture', 'socialtamasha', 'society', 'sofferenze', 'soft', 'soit', 'sol', 'solan', 'solitary', 'solo', 'somdutt', 'somebody', 'someway', 'somos', 'son', 'sonaliranade', 'sonam', 'song', 'songsong', 'sonia', 'sono', 'sonumohanty', 'soon', 'soportar', 'sorry', 'sort', 'sorts', 'sou', 'sought', 'soul', 'soundly', 'sounds', 'source', 'south', 'sp', 'space', 'spare', 'spatula', 'spe', 'speak', 'speaking', 'speaks', 'special', 'specifically', 'spectrum', 'speeches', 'speed', 'speedy', 'spend', 'spending', 'spent', 'sperimentazione', 'spewing', 'spg', 'spineless', 'spirit', 'spiritual', 'spiritually', 'split', 'spoilt', 'spoke', 'spoken', 'spokesperson', 'spokespersoneci', 'spot', 'spotted', 'sprawach', 'spread', 'spreading', 'spree', 'spurs', 'square', 'srasnda', 'srbachchan', 'srbjitjainneelu', 'sri', 'srie', 'srikishun', 'srinivasiyc', 'srivatsayb', 'ss', 'sspnoida', 'st', 'sta', 'stability', 'stage', 'staining', 'stains', 'stand', 'stands', 'star', 'start', 'started', 'state', 'statehood', 'statement', 'statements', 'station', 'statue', 'status', 'stays', 'stbbig', 'steering', 'stefan', 'step', 'steps', 'stipulates', 'stock', 'stockmarket', 'stone', 'stooge', 'stooges', 'stoop', 'stoops', 'stop', 'stopped', 'store', 'stored', 'story', 'strada', 'straight', 'stran', 'strange', 'strategic', 'strategica', 'strategy', 'streets', 'strict', 'strike', 'strikes', 'stringer', 'strong', 'struggle', 'student', 'studied', 'studio', 'stunt', 'stupidly', 'stymo', 'su', 'sua', 'suban', 'subhashbrala', 'subject', 'subrah', 'subytweets', 'succeed', 'success', 'suddenly', 'sudhirchaudhary', 'sue', 'suffer', 'suffered', 'suffering', 'sufferings', 'sugli', 'suhasbhagatbjp', 'suicide', 'suit', 'suitable', 'sujata_trivedi', 'sujeetsoni_bjp', 'sukhbirwalia', 'sultan', 'summastwa', 'summit', 'summon', 'sunaina', 'sunil_deodhar', 'sunita', 'sunitag', 'sunnies', 'sunnydeol', 'suno', 'super', 'superindianist', 'supplemented', 'supply', 'suppor', 'support', 'supported', 'supporter', 'supporters', 'supporting', 'supports', 'supposedly', 'supreme', 'supriya_sule', 'supriyabh', 'supriyasahuias', 'supriyobabul', 'sur', 'sure', 'surely', 'suresh', 'sureshbhattbjp', 'sureshnakhua', 'surfaced', 'surgical', 'surgicalstrike', 'surgicalstrikes', 'surjewala', 'surprising', 'surrender', 'surrogacy', 'suryakantvsnl', 'sushmahabala', 'sushmaswaraj', 'suspect', 'suspended', 'suspends', 'suspicious', 'svaradarajan', 'sviluppi', 'swallowing', 'swamigeetika', 'swamy', 'swapan', 'swara', 'swarabhaskar', 'swaroops', 'swarup', 'sweetu', 'swetasamadhiya', 'swing', 'swiss', 'swords', 'sylwester', 'symbol', 'symbolises', 'syria', 'system', 't_d_h_nair', 'ta', 'taale', 'taare', 'tacit', 'tackle', 'taehyung', 'tagore', 'taiwan', 'tajinderbagga', 'tak', 'taken', 'takes', 'taking', 'tal', 'talaq', 'talcher', 'talented', 'talk', 'talked', 'talking', 'talks', 'tan', 'tandon', 'tanhadil', 'tanweer_bbsr', 'tao', 'tap', 'tappar', 'tarafndan', 'tarakeswar', 'target', 'targeted', 'targeting', 'targets', 'tasted', 'taught', 'tauro', 'tax', 'taxi', 'taxpayer', 'taxpayers', 'tayan', 'te', 'teachers', 'team', 'teamyoung', 'tears', 'tech', 'techiesoul', 'technique', 'technologies', 'tecnologa', 'tehseenp', 'tejasvi_surya', 'tejbahadur', 'telefnico', 'teleprompter', 'teleprompters', 'telese', 'tell', 'telling', 'tells', 'tendr', 'tengan', 'tenth', 'tenure', 'tenuto', 'tepki', 'tepkisi', 'ter', 'tera', 'teraz', 'teri_chah', 'term', 'termale', 'terme', 'terms', 'terror', 'terrorism', 'terrorismo', 'terrorist', 'terrorists', 'tether', 'tether_to', 'teve', 'texture', 'th', 'tha', 'thakur', 'thakurs', 'thank', 'thankfully', 'thanks', 'thanos', 'thapad', 'thapar', 'theamitbhati', 'theatrics', 'thecountdown', 'theek', 'theirs', 'thekashimodel', 'theocratic', 'theory', 'theprintindia', 'thereof', 'theskindoctor', 'thetribunechds', 'thewalirahmani', 'theweeklive', 'thewire_in', 'thi', 'thickness', 'thieves', 'thin', 'thing', 'things', 'think', 'thirdphaseofvoting', 'thirsty', 'thokne', 'thought', 'thoughts', 'thr', 'thread', 'threadmill', 'threat', 'threatens', 'threw', 'thrilling', 'throw', 'throwing', 'thrown', 'throws', 'tht', 'thug', 'thuka', 'thursday', 'thursdaythoughts', 'ti', 'till', 'time', 'timeless', 'times', 'timesnow', 'timesofindia', 'tired', 'tirtl', 'titre', 'tk', 'tl', 'tmc', 'tmchhi', 'tmcs', 'toadies', 'todas', 'today', 'todays', 'todo', 'toh', 'toiindianews', 'tolabaji', 'told', 'tolerant', 'tomorrow', 'tonight', 'took', 'tool', 'topi', 'topic', 'tortura', 'tota', 'totally', 'touched', 'touching', 'tough', 'tour', 'touring', 'tours', 'tout', 'toutes', 'tower', 'toxic', 'toyota', 'tps', 'trabajo', 'tracker', 'tractor', 'trade', 'tradebulls', 'traffic', 'trail', 'train', 'traitor', 'transasese', 'transeseses', 'transfobia', 'transform', 'transformation', 'transformative', 'transforming', 'transformingindia', 'transitioning', 'transmitted', 'transparent', 'transporte', 'transportmodi', 'trashing', 'trasplante', 'travelling', 'travels', 'trazan', 'trazione', 'treachery', 'treatment', 'trending', 'tres', 'trial', 'tribunal', 'tribute', 'tried', 'trinamool', 'trip', 'triple', 'trips', 'triste', 'triumphs', 'trivandrum', 'trne', 'trois', 'troll_modi', 'trolls', 'tropical_boy', 'trouble', 'trouve', 'trucks', 'true', 'truly', 'trump', 'trust', 'trusting', 'truth', 'truths', 'try', 'trying', 'ttt', 'tu', 'tuciudadtuplaneta', 'tudo', 'tue', 'tujhe', 'tukde', 'tumhe', 'tune', 'tuning', 'tunnel', 'turned', 'turning', 'turnout', 'turquia', 'tutti', 'tv', 'tvmohandaspai', 'tweaked', 'tweet', 'tweeted', 'tweeting', 'tweets', 'twitter', 'twitteratis', 'twitterindia', 'tych', 'tym', 'type', 'uae', 'uber', 'udit', 'uditraj', 'udumass', 'ugliest', 'ugly', 'uidai', 'uidaidelhi', 'ujawni', 'ujawnilimy', 'ultimi', 'un', 'una', 'unabated', 'unable', 'unacceptable', 'unanswered', 'unbearable', 'uncle', 'unconditional', 'underdevelopment', 'underperformed', 'underprivileged', 'understood', 'underway', 'une', 'unemployed', 'unemployment', 'unequivocal', 'unequivocally', 'unfair', 'unfit', 'unfolds', 'unhumanrights', 'union', 'unity', 'unleashed', 'unlike', 'unnav', 'unofficial', 'unos', 'unpardonable', 'unprecedented', 'unrealistic', 'unsaid', 'unsubtledesi', 'unturned', 'upa', 'upadhyay', 'updated', 'updates', 'updating', 'uppar', 'uppolice', 'ur', 'urge', 'usa', 'usando', 'use', 'user', 'uski', 'utar', 'uthayega', 'uttar', 'uttarpradesh', 'utters', 'uuuf', 'va', 'vacation', 'vacationed', 'vacationing', 'vacations', 'vaccant', 'vadra', 'vadresa', 'vajpayee', 'val', 'valori', 'value', 'van', 'vandanasonkar', 'vande', 'vanitajain', 'vans', 'vanzara', 'varanasi', 'varanasiachievements', 'varanasimerecordwin', 'varanisi', 'vario', 'varnasi', 'varshneys', 'vasundharabjp', 'vatandatan', 'vctimas', 've', 'veerappa', 'veganlife', 'vegas', 'vehicles', 'vem', 'venezuela', 'venom', 'verily', 'version', 'vessel', 'vguptas', 'vi', 'viable', 'vice', 'vices', 'vickyaarya', 'vickynanjappa', 'victim', 'victory', 'vida', 'video', 'videos', 'vidyasagars', 'vient', 'views', 'vigilantes', 'vijay', 'vijaygoelbjp', 'vijaysankalprally', 'vikas', 'vikasbha', 'vile', 'vill', 'village', 'villages', 'villes', 'vilo', 'vinatanycost', 'vindictiveness', 'vineet', 'vinitgoenka', 'vinitgoenkaonletsbate', 'vinod', 'vinodchavdabjp', 'vinodimsr', 'vinodkapri', 'vinto', 'violante', 'violated', 'violence', 'violent', 'viraat', 'viral', 'viranomainen', 'virat', 'viratian', 'virdharamsiyag', 'virou', 'visible', 'vision', 'visit', 'visitors', 'visualises', 'viswasam', 'vivekagnihotri', 'vivido', 'viviendo', 'vnsanuti', 'vocal', 'vocs', 'vogel', 'voice', 'voici', 'voir', 'volatility', 'voldemort', 'volunteers', 'vot', 'vote', 'votebjp', 'voted', 'voteforchange', 'voteforindia', 'votekar', 'votekaro', 'votemaadi', 'votemodi', 'votenyayvotecongress', 'voter', 'voteramswroop', 'voters', 'votes', 'voting', 'votinground', 'votre', 'vouches', 'vous', 'vp', 'vrios', 'vs', 'vulnerable', 'vulture', 'vvpat', 'vyakti', 'waale', 'waglenikhil', 'wah', 'waise', 'waiting', 'waived', 'wajahat', 'wala', 'walczy', 'wale', 'walked', 'want', 'wanted', 'wants', 'wapas', 'wapocrapo', 'war', 'warrior', 'warship', 'warships', 'washington', 'washingtonpost', 'wasn', 'waste', 'watch', 'watched', 'watching', 'water', 'wave', 'way', 'ways', 'wb', 'weak', 'weaker', 'wearing', 'wears', 'website', 'wednesdaywisdom', 'week', 'weekly', 'weight', 'weightloss', 'welcome', 'welfare', 'wellness', 'wena', 'went', 'west', 'westbengal', 'westbengalclashes', 'wetwokrishna', 'wewanttobeteachers', 'wewanttojoinanatomy', 'wheel', 'wheelchair', 'wheels', 'whine', 'whistle', 'white', 'whn', 'whokenya', 'whokilledrajivg', 'whopping', 'whosoever', 'whymodiagain', 'widdecombe', 'wide', 'widely', 'wiele', 'wielki', 'wife', 'wikisubs', 'wildly', 'willingness', 'win', 'wingers', 'winner', 'winning', 'wins', 'wipe', 'wise', 'wisely', 'wisher', 'withdrawal', 'withdrew', 'witness', 'witnessed', 'wo', 'woh', 'woman', 'womanizer', 'women', 'won', 'wonder', 'wondering', 'woos', 'word', 'words', 'work', 'worked', 'worker', 'workers', 'working', 'world', 'worldwide', 'worried', 'worry', 'worse', 'worst', 'worth', 'worthy', 'wow', 'wprost', 'write', 'writers', 'writes', 'wrk', 'wrong', 'wsj', 'wtedy', 'wtf', 'wud', 'ww', 'xwe', 'xxxx', 'ya', 'yadav', 'yadavakhilesh', 'yadavdimples', 'yadavshyamsp', 'yadavtejashwi', 'yadr', 'yahan', 'yashwantsinha', 'ye', 'yea', 'yeah', 'year', 'yearning', 'years', 'yeh', 'yenia', 'yes', 'yesterday', 'yg', 'yhu', 'yogdaan', 'yogi', 'yojana', 'young', 'youngsters', 'yourgalneha', 'youth', 'youtube', 'yr', 'yrkkh', 'yrs', 'ysk', 'yung', 'zakir', 'zakirkhan', 'zayed', 'zealots', 'zeeghanta', 'zeenews', 'zeenewshindi', 'zekamzla', 'zerimize', 'zero', 'zoomkarkedekho']\n"
     ]
    }
   ],
   "source": [
    "print (vect.get_feature_names())"
   ]
  },
  {
   "cell_type": "code",
   "execution_count": 7,
   "metadata": {},
   "outputs": [
    {
     "name": "stdout",
     "output_type": "stream",
     "text": [
      "5534\n"
     ]
    }
   ],
   "source": [
    "print (len(vect.get_feature_names()))"
   ]
  },
  {
   "cell_type": "code",
   "execution_count": 8,
   "metadata": {},
   "outputs": [
    {
     "name": "stdout",
     "output_type": "stream",
     "text": [
      "(1117, 5534)\n"
     ]
    }
   ],
   "source": [
    "# transform the documents in the training data to a document-term matrix\n",
    "X_train_vectorized = vect.transform(X_train)\n",
    "\n",
    "X_train_vectorized\n",
    "\n",
    "print ((X_train_vectorized.shape))"
   ]
  },
  {
   "cell_type": "code",
   "execution_count": 9,
   "metadata": {},
   "outputs": [
    {
     "data": {
      "text/plain": [
       "LogisticRegression(C=1.0, class_weight=None, dual=False, fit_intercept=True,\n",
       "                   intercept_scaling=1, l1_ratio=None, max_iter=100,\n",
       "                   multi_class='auto', n_jobs=None, penalty='l2',\n",
       "                   random_state=None, solver='lbfgs', tol=0.0001, verbose=0,\n",
       "                   warm_start=False)"
      ]
     },
     "execution_count": 9,
     "metadata": {},
     "output_type": "execute_result"
    }
   ],
   "source": [
    "from sklearn.linear_model import LogisticRegression\n",
    "\n",
    "# Train the model\n",
    "model = LogisticRegression(solver='lbfgs', multi_class='auto')\n",
    "model.fit(X_train_vectorized, y_train)"
   ]
  },
  {
   "cell_type": "code",
   "execution_count": 10,
   "metadata": {},
   "outputs": [
    {
     "name": "stdout",
     "output_type": "stream",
     "text": [
      "AUC:  0.6567232679378103\n"
     ]
    }
   ],
   "source": [
    "from sklearn.metrics import roc_auc_score\n",
    "from sklearn import preprocessing\n",
    "\n",
    "def multiclass_roc_auc_score(y_test, y_pred, average=\"macro\"):\n",
    "    lb = preprocessing.LabelBinarizer()\n",
    "    lb.fit(y_test)\n",
    "    y_test = lb.transform(y_test)\n",
    "    y_pred = lb.transform(y_pred)\n",
    "    return roc_auc_score(y_test, y_pred, average=average)\n",
    "\n",
    "# Predict the transformed test documents\n",
    "predictions = model.predict(vect.transform(X_test))\n",
    "\n",
    "print('AUC: ', multiclass_roc_auc_score(y_test, predictions))"
   ]
  },
  {
   "cell_type": "code",
   "execution_count": 11,
   "metadata": {},
   "outputs": [
    {
     "name": "stdout",
     "output_type": "stream",
     "text": [
      "Smallest Coefs:\n",
      "['narendramodi' 'pm' 'amp' 'india' 'narendra' 'bjp' 'apnamodiaayega'\n",
      " 'sabsebadajhootamodi' 'gandhi' 'congress']\n",
      "\n",
      "Largest Coefs: \n",
      "['deshkagauravmodi' 'deshkishaanmodi' 'modi' 'swarabhaskar' 'gangster'\n",
      " 'nathu' 'resorting' 'peope' 'results' 'badly']\n"
     ]
    }
   ],
   "source": [
    "# get the feature names as numpy array\n",
    "feature_names = np.array(vect.get_feature_names())\n",
    "\n",
    "# Sort the coefficients from the model\n",
    "sorted_coef_index = model.coef_[0].argsort()\n",
    "\n",
    "# Find the 10 smallest and 10 largest coefficients\n",
    "# The 10 largest coefficients are being indexed using [:-11:-1] \n",
    "# so the list returned is in order of largest to smallest\n",
    "print('Smallest Coefs:\\n{}\\n'.format(feature_names[sorted_coef_index[:10]]))\n",
    "print('Largest Coefs: \\n{}'.format(feature_names[sorted_coef_index[:-11:-1]]))"
   ]
  },
  {
   "cell_type": "code",
   "execution_count": 12,
   "metadata": {},
   "outputs": [
    {
     "name": "stdout",
     "output_type": "stream",
     "text": [
      "['3']\n"
     ]
    }
   ],
   "source": [
    "# These reviews are treated the same by our current model\n",
    "print(model.predict(vect.transform(['apna modi aaega'])))"
   ]
  },
  {
   "cell_type": "code",
   "execution_count": 13,
   "metadata": {},
   "outputs": [],
   "source": [
    "###Tfidf"
   ]
  },
  {
   "cell_type": "code",
   "execution_count": 14,
   "metadata": {},
   "outputs": [
    {
     "data": {
      "text/plain": [
       "418"
      ]
     },
     "execution_count": 14,
     "metadata": {},
     "output_type": "execute_result"
    }
   ],
   "source": [
    "from sklearn.feature_extraction.text import TfidfVectorizer\n",
    "\n",
    "# Fit the TfidfVectorizer to the training data specifiying a minimum document frequency of 5\n",
    "vect = TfidfVectorizer(min_df=5).fit(X_train)\n",
    "len(vect.get_feature_names())"
   ]
  },
  {
   "cell_type": "code",
   "execution_count": 15,
   "metadata": {},
   "outputs": [
    {
     "name": "stdout",
     "output_type": "stream",
     "text": [
      "AUC:  0.6451734814472989\n"
     ]
    },
    {
     "name": "stderr",
     "output_type": "stream",
     "text": [
      "c:\\users\\dell\\appdata\\local\\programs\\python\\python37\\lib\\site-packages\\sklearn\\linear_model\\logistic.py:432: FutureWarning: Default solver will be changed to 'lbfgs' in 0.22. Specify a solver to silence this warning.\n",
      "  FutureWarning)\n",
      "c:\\users\\dell\\appdata\\local\\programs\\python\\python37\\lib\\site-packages\\sklearn\\linear_model\\logistic.py:469: FutureWarning: Default multi_class will be changed to 'auto' in 0.22. Specify the multi_class option to silence this warning.\n",
      "  \"this warning.\", FutureWarning)\n"
     ]
    }
   ],
   "source": [
    "X_train_vectorized = vect.transform(X_train)\n",
    "\n",
    "from sklearn.metrics import roc_auc_score\n",
    "from sklearn import preprocessing\n",
    "\n",
    "def multiclass_roc_auc_score(y_test, y_pred, average=\"macro\"):\n",
    "    lb = preprocessing.LabelBinarizer()\n",
    "    lb.fit(y_test)\n",
    "    y_test = lb.transform(y_test)\n",
    "    y_pred = lb.transform(y_pred)\n",
    "    return roc_auc_score(y_test, y_pred, average=average)\n",
    "\n",
    "model = LogisticRegression()\n",
    "model.fit(X_train_vectorized, y_train)\n",
    "\n",
    "predictions = model.predict(vect.transform(X_test))\n",
    "\n",
    "print('AUC: ', multiclass_roc_auc_score(y_test, predictions))"
   ]
  },
  {
   "cell_type": "code",
   "execution_count": 16,
   "metadata": {},
   "outputs": [
    {
     "name": "stdout",
     "output_type": "stream",
     "text": [
      "Smallest tfidf:\n",
      "['pasricha' 'admiral' 'doubt' 'retd' 'goons' 'vice' 'young' 'mahatma'\n",
      " 'believe' 'patriot']\n",
      "\n",
      "Largest tfidf: \n",
      "['ke' 've' 'sabsebadajhootamodi' 'jharkhandbolemodimodi' 'ji' 'shefvaidya'\n",
      " 'la' 'se' 'loksabhaelections' 'trying']\n"
     ]
    }
   ],
   "source": [
    "feature_names = np.array(vect.get_feature_names())\n",
    "\n",
    "sorted_tfidf_index = X_train_vectorized.max(0).toarray()[0].argsort()\n",
    "\n",
    "print('Smallest tfidf:\\n{}\\n'.format(feature_names[sorted_tfidf_index[:10]]))\n",
    "print('Largest tfidf: \\n{}'.format(feature_names[sorted_tfidf_index[:-11:-1]]))"
   ]
  },
  {
   "cell_type": "code",
   "execution_count": 17,
   "metadata": {},
   "outputs": [
    {
     "name": "stdout",
     "output_type": "stream",
     "text": [
      "Smallest Coefs:\n",
      "['narendramodi' 'pm' 'apnamodiaayega' 'sabsebadajhootamodi' 'amp'\n",
      " 'loksabhaelections' 'ji' 'amitshah' 'bjp' 'india']\n",
      "\n",
      "Largest Coefs: \n",
      "['deshkagauravmodi' 'deshkishaanmodi' 'believe' 'goons' 'diya' 'patriot'\n",
      " 'big' 'deshbhakt' 'etc' 'doubt']\n"
     ]
    }
   ],
   "source": [
    "sorted_coef_index = model.coef_[0].argsort()\n",
    "\n",
    "print('Smallest Coefs:\\n{}\\n'.format(feature_names[sorted_coef_index[:10]]))\n",
    "print('Largest Coefs: \\n{}'.format(feature_names[sorted_coef_index[:-11:-1]]))"
   ]
  },
  {
   "cell_type": "code",
   "execution_count": 18,
   "metadata": {},
   "outputs": [
    {
     "name": "stdout",
     "output_type": "stream",
     "text": [
      "['1']\n"
     ]
    }
   ],
   "source": [
    "# These reviews are treated the same by our current model\n",
    "print(model.predict(vect.transform(['apna modi aaega'])))#####add test subject"
   ]
  },
  {
   "cell_type": "code",
   "execution_count": 19,
   "metadata": {},
   "outputs": [
    {
     "name": "stdout",
     "output_type": "stream",
     "text": [
      "['3']\n",
      "['1']\n",
      "['3']\n",
      "['3']\n",
      "['2']\n",
      "['1']\n",
      "['1']\n",
      "['1']\n",
      "['3']\n",
      "['3']\n"
     ]
    }
   ],
   "source": [
    "print(model.predict(vect.transform(['vote voice continue support prime minister narendramodi second term t'])))#3\n",
    "print(model.predict(vect.transform(['albert einstein generations come scarce believe flesh blood walked earth said mahatmagandhi bjp pragya thakur hails patriot godse murdering gandhi modi amp shah maintain radio silence'])))#1\n",
    "print(model.predict(vect.transform(['phirekbaarmodisarkar deshkedilmeimodi modihaintomumkinhai biharwithmodi apnamodiaayega'])))#3\n",
    "print(model.predict(vect.transform(['suyork _ chuckmodi root kd goes ny ut guy killing able t'])))#2\n",
    "print(model.predict(vect.transform(['thekashimodel kashimodified kashivotes'])))#2\n",
    "print(model.predict(vect.transform(['week modi prime minister irrespective wins drop pragya thakur blot democracy amp inaction stains reputation washingtonpost read amp share pragyasinghthakur'])))#2\n",
    "print(model.predict(vect.transform(['sorry sadhvi nt ideological difference defends modi defence minister asks journalists godse terrorist sham'])))#1\n",
    "print(model.predict(vect.transform(['bjp supporters bisundhari village asked dalits participate modis rally thursday refused bjp supporters resorted violence thrashed'])))#1\n",
    "print(model.predict(vect.transform(['narendramodi apnamodiaayega deshkagauravmodi phase votinground'])))#2\n",
    "print(model.predict(vect.transform(['deshkagauravmodi reality priyanka gandhi indore road women promised saree money attend rally later denied incindia deliver nyay poor underprivileged fridayfeeling fridaythoughts'])))#2\n",
    "\n",
    "\n"
   ]
  },
  {
   "cell_type": "code",
   "execution_count": 20,
   "metadata": {},
   "outputs": [
    {
     "name": "stdout",
     "output_type": "stream",
     "text": [
      "['aajtak', 'aap', 'aayega', 'aayegatohmodihi', 'aayegatomodihi', 'abkibaarpaar', 'accused', 'action', 'address', 'addressing', 'admiral', 'admiral vinod', 'agree', 'amazon', 'amitshah', 'amitshah bjpindia', 'amitshah myogiadityanath', 'amp', 'amp modi', 'anti', 'apnamodiaayega', 'app', 'article', 'arunjaitley', 'arvindkejriwal', 'asked', 'attacked', 'attention', 'away', 'ayegatohmodihi', 'bachchan', 'banerjee', 'believe', 'bengal', 'best', 'better', 'bhakts', 'bhopal', 'big', 'bjp', 'bjpdelhi', 'bjpindia', 'bjpindia narendramodi', 'bjpmp', 'bjpup', 'bofors', 'booth', 'business', 'called', 'campaign', 'campaigning', 'candidate', 'case', 'case doubt', 'change', 'chants', 'check', 'chor', 'chouhanshivraj', 'chowkidar', 'claims', 'come', 'comes', 'con', 'congress', 'corruption', 'country', 'court', 'cr', 'crore', 'crowd', 'day', 'days', 'de', 'de la', 'dear', 'debate', 'defeat', 'defence', 'delhi', 'deliver', 'democracy', 'deshbhakt', 'deshkagauravmodi', 'deshkishaanmodi', 'dev_fadnavis', 'development', 'di', 'dictionary', 'didi', 'didn', 'digvijaya', 'divert', 'diya', 'doesn', 'don', 'doubt', 'drive', 'ecisveep', 'el', 'election', 'election campaign', 'elections', 'en', 'es', 'etc', 'evm', 'exclusive', 'exposed', 'face', 'facts', 'fake', 'family', 'father', 'fear', 'feel', 'fight', 'fighting', 'find', 'follow', 'forces', 'fridayfeeling', 'friends', 'future', 'gandhi', 'gandhi ji', 'gandhis', 'gives', 'giving', 'godse', 'goes', 'going', 'good', 'goons', 'got', 'government', 'govt', 'govts', 'great', 'gujarat', 'ha', 'habibullah', 'hai', 'hand', 'handle', 'happy', 'having', 'help', 'hey', 'hi', 'high', 'hindu', 'hindus', 'history', 'holiday', 'hope', 'house', 'iaf', 'incident', 'incindia', 'india', 'indian', 'indians', 'indias', 'indira', 'ins', 'ins viraat', 'ins virat', 'insulting', 'interview', 'issues', 'jai', 'jai shri', 'jharkhandbolemodimodi', 'ji', 'ka', 'kashibolenamonamo', 'ke', 'kerala', 'ki', 'killed', 'kind', 'know', 'ko', 'kolkata', 'kumar', 'la', 'las', 'latest', 'law', 'le', 'leader', 'leaders', 'leave', 'les', 'let', 'lets', 'liar', 'lie', 'lies', 'life', 'like', 'live', 'll', 'lok', 'lok sabha', 'loksabha', 'loksabhaelections', 'los', 'lose', 'love', 'lying', 'mahatma', 'mahatma gandhi', 'making', 'mamata', 'mamata banerjee', 'mamataofficial', 'mamta', 'man', 'manmohan', 'manogyaloiwal', 'market', 'massive', 'matter', 'mayawati', 'media', 'meeting', 'minister', 'minister narendra', 'modi', 'modi amp', 'modi chants', 'modi govt', 'modi hi', 'modi ji', 'modi lies', 'modi modi', 'modi shah', 'modifiedvikas', 'modify', 'modihiaayega', 'modiji', 'modilie', 'modilies', 'modioncemore', 'modis', 'moditohgaya', 'moment', 'money', 'mother', 'mp', 'mr', 'mr modi', 'murder', 'muslim', 'muslims', 'myogiadityanath', 'na', 'namo', 'namo app', 'namoagain', 'narendra', 'narendra modi', 'narendramodi', 'narendramodi amitshah', 'narendramodi apnamodiaayega', 'narendramodi bjpdelhi', 'narendramodi bjpindia', 'narendramodi deshkishaanmodi', 'narendramodi ji', 'narendramodi pmoindia', 'narendramodi rahulgandhi', 'narendramodi zeenews', 'nathuram', 'nathuram godse', 'nation', 'national', 'ndtv', 'ne', 'need', 'nehru', 'new', 'new india', 'news', 'ni', 'nitin_gadkari', 'non', 'nt', 'number', 'official', 'official visit', 'onepluspro', 'open', 'oxford', 'paid', 'pakistan', 'para', 'party', 'pasricha', 'past', 'patriot', 'people', 'person', 'personal', 'personal taxi', 'phase', 'phase loksabhaelections', 'phirekbaarmodisarkar', 'pm', 'pm lying', 'pm modi', 'pm narendramodi', 'pmoindia', 'pmoindia narendramodi', 'point', 'police', 'policies', 'political', 'polling', 'poor', 'pour', 'power', 'pradesh', 'pragya', 'pragya thakur', 'pragyasinghthakur', 'pray', 'president', 'prime', 'prime minister', 'priyanka', 'priyankagandhi', 'proud', 'public', 'public meeting', 'purulia', 'que', 'qui', 'rahul', 'rahul gandhi', 'rahulgandhi', 'rajiv', 'rajiv gandhi', 'rajivgandhi', 'rajnathsingh', 'rallies', 'rally', 'ram', 'rd', 'read', 'real', 'reallyswara', 'remarks', 'report', 'retd', 'retd vice', 'return', 'right', 'road', 'roadshow', 'rs', 'rss', 'rssorg', 'rt', 'rule', 'sabha', 'sabsabadajhootamodi', 'sabsebadajhootamodi', 'sadhvi', 'sadhvi pragya', 'said', 'sarkar', 'saying', 'says', 'sc', 'scam', 'scared', 'se', 'seats', 'second', 'security', 'seen', 'shah', 'shame', 'shameful', 'share', 'shefvaidya', 'shree', 'shri', 'shri narendramodi', 'shri ram', 'sick', 'singh', 'single', 'sir', 'smritiirani', 'son', 'st', 'state', 'statements', 'stop', 'story', 'sudhirchaudhary', 'support', 'sure', 'sushmaswaraj', 'tajinderbagga', 'tak', 'taxi', 'taxi pm', 'terror', 'terrorist', 'th', 'thakur', 'thanks', 'things', 'think', 'thursdaythoughts', 'time', 'times', 'tmc', 'today', 'took', 'totally', 'trips', 'true', 'truth', 'trying', 'tv', 'tweet', 'twitter', 'un', 'union', 'upa', 'use', 'uttar', 'vacation', 'varanasi', 've', 'vice', 'vice admiral', 'video', 'vinod', 'vinod pasricha', 'violence', 'viraat', 'viraat personal', 'virat', 'visit', 'vote', 'votebjp', 'voted', 'votekar', 'voters', 'voting', 'votinground', 'votinground phase', 'vs', 'wajahat', 'wajahat habibullah', 'want', 'watch', 'way', 'west', 'west bengal', 'win', 'wins', 'woman', 'women', 'won', 'work', 'world', 'wrong', 'yadavakhilesh', 'year', 'years', 'young', 'zeenews']\n"
     ]
    }
   ],
   "source": [
    "# Fit the CountVectorizer to the training data specifiying a minimum \n",
    "# document frequency of 5 and extracting 1-grams and 2-grams\n",
    "vect = CountVectorizer(min_df=5, ngram_range=(1,2)).fit(X_train)\n",
    "\n",
    "X_train_vectorized = vect.transform(X_train)\n",
    "\n",
    "len(vect.get_feature_names())\n",
    "print (vect.get_feature_names())"
   ]
  },
  {
   "cell_type": "code",
   "execution_count": 21,
   "metadata": {},
   "outputs": [
    {
     "name": "stdout",
     "output_type": "stream",
     "text": [
      "AUC:  0.6503779708116897\n"
     ]
    },
    {
     "name": "stderr",
     "output_type": "stream",
     "text": [
      "c:\\users\\dell\\appdata\\local\\programs\\python\\python37\\lib\\site-packages\\sklearn\\linear_model\\logistic.py:432: FutureWarning: Default solver will be changed to 'lbfgs' in 0.22. Specify a solver to silence this warning.\n",
      "  FutureWarning)\n",
      "c:\\users\\dell\\appdata\\local\\programs\\python\\python37\\lib\\site-packages\\sklearn\\linear_model\\logistic.py:469: FutureWarning: Default multi_class will be changed to 'auto' in 0.22. Specify the multi_class option to silence this warning.\n",
      "  \"this warning.\", FutureWarning)\n"
     ]
    }
   ],
   "source": [
    "\n",
    "X_train_vectorized = vect.transform(X_train)\n",
    "\n",
    "from sklearn.metrics import roc_auc_score\n",
    "from sklearn import preprocessing\n",
    "\n",
    "def multiclass_roc_auc_score(y_test, y_pred, average=\"macro\"):\n",
    "    lb = preprocessing.LabelBinarizer()\n",
    "    lb.fit(y_test)\n",
    "    y_test = lb.transform(y_test)\n",
    "    y_pred = lb.transform(y_pred)\n",
    "    return roc_auc_score(y_test, y_pred, average=average)\n",
    "\n",
    "model = LogisticRegression()\n",
    "model.fit(X_train_vectorized, y_train)\n",
    "\n",
    "predictions = model.predict(vect.transform(X_test))\n",
    "\n",
    "print('AUC: ', multiclass_roc_auc_score(y_test, predictions))\n"
   ]
  },
  {
   "cell_type": "code",
   "execution_count": 22,
   "metadata": {},
   "outputs": [
    {
     "name": "stdout",
     "output_type": "stream",
     "text": [
      "Smallest Coefs:\n",
      "['narendramodi' 'pm' 'modi' 'sabsebadajhootamodi' 'apnamodiaayega'\n",
      " 'loksabhaelections' 'amp' 'bjp' 'india' 'ji']\n",
      "\n",
      "Largest Coefs: \n",
      "['deshkagauravmodi' 'deshkishaanmodi' 'admiral vinod' 'big' 'amp modi'\n",
      " 'young' 'official visit' 'taxi pm' 'retd vice' 'shri narendramodi']\n"
     ]
    }
   ],
   "source": [
    "feature_names = np.array(vect.get_feature_names())\n",
    "\n",
    "sorted_coef_index = model.coef_[0].argsort()\n",
    "\n",
    "print('Smallest Coefs:\\n{}\\n'.format(feature_names[sorted_coef_index[:10]]))\n",
    "print('Largest Coefs: \\n{}'.format(feature_names[sorted_coef_index[:-11:-1]]))"
   ]
  },
  {
   "cell_type": "code",
   "execution_count": 23,
   "metadata": {},
   "outputs": [],
   "source": [
    "#rf"
   ]
  },
  {
   "cell_type": "code",
   "execution_count": 39,
   "metadata": {},
   "outputs": [
    {
     "name": "stdout",
     "output_type": "stream",
     "text": [
      "AUC:  0.6429001102993045\n"
     ]
    }
   ],
   "source": [
    "# Fit the CountVectorizer to the training data specifiying a minimum \n",
    "# document frequency of 5 and extracting 1-grams and 2-grams\n",
    "vect = CountVectorizer(min_df=5, ngram_range=(1,2)).fit(X_train)\n",
    "\n",
    "X_train_vectorized = vect.transform(X_train)\n",
    "\n",
    "len(vect.get_feature_names())\n",
    "\n",
    "\n",
    "\n",
    "X_train_vectorized = vect.transform(X_train)\n",
    "X_train_vectorized.todense()\n",
    "from sklearn.metrics import roc_auc_score\n",
    "from sklearn import preprocessing\n",
    "\n",
    "from sklearn.ensemble import RandomForestClassifier\n",
    "\n",
    "\n",
    "def multiclass_roc_auc_score(y_test, y_pred, average=\"macro\"):\n",
    "    lb = preprocessing.LabelBinarizer()\n",
    "    lb.fit(y_test)\n",
    "    y_test = lb.transform(y_test)\n",
    "    y_pred = lb.transform(y_pred)\n",
    "    return roc_auc_score(y_test, y_pred, average=average)\n",
    "\n",
    "model = RandomForestClassifier(n_estimators=200,criterion='entropy')\n",
    "model.fit(X_train_vectorized, y_train)\n",
    "\n",
    "predictions = model.predict(vect.transform(X_test))\n",
    "\n",
    "print('AUC: ', multiclass_roc_auc_score(y_test, predictions))"
   ]
  },
  {
   "cell_type": "code",
   "execution_count": 25,
   "metadata": {},
   "outputs": [
    {
     "name": "stdout",
     "output_type": "stream",
     "text": [
      "AUC:  0.6191460939821366\n"
     ]
    },
    {
     "name": "stderr",
     "output_type": "stream",
     "text": [
      "c:\\users\\dell\\appdata\\local\\programs\\python\\python37\\lib\\site-packages\\sklearn\\discriminant_analysis.py:388: UserWarning: Variables are collinear.\n",
      "  warnings.warn(\"Variables are collinear.\")\n"
     ]
    }
   ],
   "source": [
    "#vect = TfidfVectorizer(min_df=5).fit(X_train)\n",
    "vect = CountVectorizer(min_df=5, ngram_range=(1,2)).fit(X_train)\n",
    "X_train_vectorized = vect.transform(X_train)\n",
    "\n",
    "from sklearn.metrics import roc_auc_score\n",
    "from sklearn import preprocessing\n",
    "\n",
    "from sklearn.discriminant_analysis import LinearDiscriminantAnalysis as LDA\n",
    "\n",
    "\n",
    "def multiclass_roc_auc_score(y_test, y_pred, average=\"macro\"):\n",
    "    lb = preprocessing.LabelBinarizer()\n",
    "    lb.fit(y_test)\n",
    "    y_test = lb.transform(y_test)\n",
    "    y_pred = lb.transform(y_pred)\n",
    "    return roc_auc_score(y_test, y_pred, average=average)\n",
    "\n",
    "model = LDA()\n",
    "model.fit(X_train_vectorized.toarray(), y_train)\n",
    "\n",
    "predictions = model.predict(vect.transform(X_test))\n",
    "\n",
    "print('AUC: ', multiclass_roc_auc_score(y_test, predictions))"
   ]
  },
  {
   "cell_type": "code",
   "execution_count": 26,
   "metadata": {},
   "outputs": [
    {
     "name": "stdout",
     "output_type": "stream",
     "text": [
      "['1']\n"
     ]
    }
   ],
   "source": [
    "print(model.predict(vect.transform(['there has been fire in amazon'])))"
   ]
  },
  {
   "cell_type": "code",
   "execution_count": 5,
   "metadata": {},
   "outputs": [],
   "source": [
    "from sklearn.feature_extraction.text import TfidfVectorizer, CountVectorizer\n",
    "\n",
    "# Fit the TfidfVectorizer to the training data specifiying a minimum document frequency of 5\n",
    "vect = TfidfVectorizer(min_df=5).fit_transform(X_train)\n",
    "#len(vect.get_feature_names())\n",
    "\n",
    "no_features = 1000\n",
    "\n",
    "# NMF is able to use tf-idf\n",
    "tfidf_vectorizer = TfidfVectorizer(max_df=0.95, min_df=2, max_features=no_features, stop_words='english')\n",
    "tfidf = tfidf_vectorizer.fit_transform(X_train)\n",
    "tfidf_feature_names = tfidf_vectorizer.get_feature_names()\n",
    "\n",
    "\n",
    "from sklearn.decomposition import NMF, LatentDirichletAllocation\n",
    "\n",
    "no_topics = 20\n",
    "\n",
    "# Run NMF\n",
    "nmf = NMF(n_components=no_topics, random_state=1, alpha=.1, l1_ratio=.5, init='nndsvd').fit(vect)\n",
    "\n",
    "tf_vectorizer = CountVectorizer(max_df=0.95, min_df=2, max_features=no_features, stop_words='english')\n",
    "tf = tf_vectorizer.fit_transform(X_train)\n",
    "tf_feature_names = tf_vectorizer.get_feature_names()\n",
    "\n",
    "\n",
    "# Run LDA\n",
    "lda = LatentDirichletAllocation(no_topics, max_iter=5, learning_method='online', learning_offset=50.,random_state=0).fit(tf)\n"
   ]
  },
  {
   "cell_type": "code",
   "execution_count": 6,
   "metadata": {},
   "outputs": [
    {
     "name": "stdout",
     "output_type": "stream",
     "text": [
      "Topic 0:\n",
      "ensure foreign electric leave ajaykushwaha aaj il hits bofors didn\n",
      "Topic 1:\n",
      "balakot failures face aren injunction baap hinduism bengal aap ha\n",
      "Topic 2:\n",
      "diya english comments change del fir help ins development harboothparmodi\n",
      "Topic 3:\n",
      "ac aayegatohmodihi institutions cr didi anantkumarh fear accept en aap\n",
      "Topic 4:\n",
      "bainjal doesn booth al image karta bitfinex carrier history ecisveep\n",
      "Topic 5:\n",
      "half del despite defended exclusive community el comment hi aboard\n",
      "Topic 6:\n",
      "deshbhakt kumar followed knowing aayega killed fridayfeeling bharatbolenamonamo cbi kind\n",
      "Topic 7:\n",
      "doubt ajaykushwaha accused earlier kind community en bomb era deshbhakt\n",
      "Topic 8:\n",
      "forces condemn ashokepandit comments age harboothparmodi kapilmishra_ind education jharkhandbolemodimodi committed\n",
      "Topic 9:\n",
      "abuse electric allegation banerjee al hey know bitfinex account hinduism\n",
      "Topic 10:\n",
      "congress leave chowkidar chandigarh change changed channel chants che check\n",
      "Topic 11:\n",
      "abuses carrier help facts calls check bjpkarnataka fy achievement didi\n",
      "Topic 12:\n",
      "giving comment general aayegatohmodihi lead del bharatbolenamonamo dismissed disgusting doesn\n",
      "Topic 13:\n",
      "aur crore girl big bharatkagarvmodi deshkagauravmodi crowd friend jhasanjay debate\n",
      "Topic 14:\n",
      "contest end god builder know ha aayega indira insulting killed\n",
      "Topic 15:\n",
      "force end aayegatohmodihi deshbhakt corrupt image divert getting comments chants\n",
      "Topic 16:\n",
      "community ke builder god bjpmp follow inaugurated aboard karkare kailashonline\n",
      "Topic 17:\n",
      "airforce ashokepandit calls fy indian builder divyaspandana incindia comments gain\n",
      "Topic 18:\n",
      "di institutions image doesn bharatbolenamonamo bitfinex ec aamaadmiparty chor didn\n",
      "Topic 19:\n",
      "ajaypandey al aren guys allegation hun foreign earlier corrupt comment\n",
      "Topic 0:\n",
      "una che del si conference come report su commodities il\n",
      "Topic 1:\n",
      "pathological rahulkachallenge liar bofors sherryontopp lets lambaalka rafale debate mr\n",
      "Topic 2:\n",
      "modi amp pm india bjp godse govt narendra indian years\n",
      "Topic 3:\n",
      "time narendramodi modi government people said tired bit second vikas\n",
      "Topic 4:\n",
      "deshkagauravmodi video follow code fridayfeeling electioncommission link reallyswara aayegatomodihi murder\n",
      "Topic 5:\n",
      "narendramodi loksabhaelections pm amitshah apnamodiaayega bjpindia rahulgandhi bjp ji pmoindia\n",
      "Topic 6:\n",
      "modi ji gandhi hai lies sabsebadajhootamodi pm congress ki ko\n",
      "Topic 7:\n",
      "sabsebadajhootamodi pm ins gandhi rajiv viraat modi family vice admiral\n",
      "Topic 8:\n",
      "minister prime narendra party said friend need chief yadavakhilesh singh\n",
      "Topic 9:\n",
      "modified leaders new skills high road yesterday provides modify report\n",
      "Topic 10:\n",
      "modi scam iaf election trips paid bjp sabsebadajhootamodi media petrol\n",
      "Topic 11:\n",
      "tajinderbagga shefvaidya modifiedvikas sengarajay amitmalviya swamigeetika ajaypandey ajaykushwaha vivekagnihotri modiledubega\n",
      "Topic 12:\n",
      "reaction time congress comments varanasi rajivgandhi pmoindia shameless waste asked\n",
      "Topic 13:\n",
      "modilie rahul gandhi word lied oxford dictionary new modilies english\n",
      "Topic 14:\n",
      "narendramodi achievement hatred saffron white modis green nice fight vision\n",
      "Topic 15:\n",
      "deshkishaanmodi modihiaayega pragya swara thakur accused nitin_gadkari terrorist supporter godse\n",
      "Topic 16:\n",
      "lok sabha court elections mamta vs fighting banerjee cbi modi\n",
      "Topic 17:\n",
      "la en que el los le pour las les di\n",
      "Topic 18:\n",
      "dream electric rahulgandhi apnamodiaayega mayawati yadavakhilesh business narendramodi came lost\n",
      "Topic 19:\n",
      "woman men booth polling navjot sidhu number rally commodity marked\n"
     ]
    }
   ],
   "source": [
    "def display_topics(model, feature_names, no_top_words):\n",
    "    for topic_idx, topic in enumerate(model.components_):\n",
    "        print (\"Topic %d:\" % (topic_idx))\n",
    "        print (\" \".join([feature_names[i]\n",
    "                        for i in topic.argsort()[:-no_top_words - 1:-1]]))\n",
    "\n",
    "no_top_words = 10\n",
    "display_topics(nmf, tfidf_feature_names, no_top_words)\n",
    "display_topics(lda, tf_feature_names, no_top_words)"
   ]
  },
  {
   "cell_type": "code",
   "execution_count": null,
   "metadata": {},
   "outputs": [],
   "source": []
  }
 ],
 "metadata": {
  "kernelspec": {
   "display_name": "Python 3",
   "language": "python",
   "name": "python3"
  },
  "language_info": {
   "codemirror_mode": {
    "name": "ipython",
    "version": 3
   },
   "file_extension": ".py",
   "mimetype": "text/x-python",
   "name": "python",
   "nbconvert_exporter": "python",
   "pygments_lexer": "ipython3",
   "version": "3.7.6"
  }
 },
 "nbformat": 4,
 "nbformat_minor": 2
}
